{
 "cells": [
  {
   "cell_type": "code",
   "execution_count": 213,
   "metadata": {},
   "outputs": [],
   "source": [
    "# make sure to install the latest version of sigmoid_check with pip install sigmoid_check==0.1.3\n",
    "from sigmoid_check.excalibur import *"
   ]
  },
  {
   "cell_type": "markdown",
   "metadata": {},
   "source": [
    "Adaug import ca sa nu am definition warning-uri peste tot. "
   ]
  },
  {
   "cell_type": "code",
   "execution_count": 214,
   "metadata": {},
   "outputs": [],
   "source": [
    "import numpy as np"
   ]
  },
  {
   "cell_type": "code",
   "execution_count": 215,
   "metadata": {},
   "outputs": [
    {
     "name": "stdout",
     "output_type": "stream",
     "text": [
      "✅ Great job! Exercise completed successfully.\n"
     ]
    }
   ],
   "source": [
    "# Given a list of integers `int_list`, create a NumPy array named `array_from_list`.\n",
    "@check_numpy_1\n",
    "def numpy_1(int_list):\n",
    "    # This line is mandatory and should not be removed.\n",
    "    ex_stat_init = True\n",
    "\n",
    "    # BELOW GOES YOUR CODE\n",
    "    array_from_list = np.array(int_list)\n",
    "    # ABOVE GOES YOUR CODE\n",
    "    return {\"array_from_list\": array_from_list}\n",
    "\n",
    "numpy_1()"
   ]
  },
  {
   "cell_type": "code",
   "execution_count": 216,
   "metadata": {},
   "outputs": [
    {
     "name": "stdout",
     "output_type": "stream",
     "text": [
      "✅ Great job! Exercise completed successfully.\n"
     ]
    }
   ],
   "source": [
    "# Given two NumPy arrays `array1` and `array2` of the same shape, save their element-wise addition to `added_array`.\n",
    "@check_numpy_2\n",
    "def numpy_2(array1, array2):\n",
    "    # This line is mandatory and should not be removed.\n",
    "    ex_stat_init = True\n",
    "\n",
    "    # BELOW GOES YOUR CODE\n",
    "    added_array = array1 + array2\n",
    "    # ABOVE GOES YOUR CODE\n",
    "    return {\"added_array\": added_array}\n",
    "\n",
    "numpy_2()"
   ]
  },
  {
   "cell_type": "code",
   "execution_count": 217,
   "metadata": {},
   "outputs": [
    {
     "name": "stdout",
     "output_type": "stream",
     "text": [
      "✅ Great job! Exercise completed successfully.\n"
     ]
    }
   ],
   "source": [
    "# Given two NumPy arrays `arrayA` and `arrayB`, calculate the element-wise subtraction of `arrayB` from `arrayA` and store the result in `subtracted_array`.\n",
    "@check_numpy_3\n",
    "def numpy_3(arrayA, arrayB):\n",
    "    # This line is mandatory and should not be removed.\n",
    "    ex_stat_init = True\n",
    "\n",
    "    # BELOW GOES YOUR CODE\n",
    "    subtracted_array = arrayB - arrayA\n",
    "    # ABOVE GOES YOUR CODE\n",
    "    return {\"subtracted_array\": subtracted_array}\n",
    "\n",
    "numpy_3()"
   ]
  },
  {
   "cell_type": "code",
   "execution_count": 218,
   "metadata": {},
   "outputs": [
    {
     "name": "stdout",
     "output_type": "stream",
     "text": [
      "✅ Great job! Exercise completed successfully.\n"
     ]
    }
   ],
   "source": [
    "# Given two NumPy arrays `num_array1` and `num_array2` of the same shape, find their element-wise multiplication and store in `multiplied_array`.\n",
    "@check_numpy_4\n",
    "def numpy_4(num_array1, num_array2):\n",
    "    # This line is mandatory and should not be removed.\n",
    "    ex_stat_init = True\n",
    "\n",
    "    # BELOW GOES YOUR CODE\n",
    "    multiplied_array = num_array1 * num_array2\n",
    "    # ABOVE GOES YOUR CODE\n",
    "    return {\"multiplied_array\": multiplied_array}\n",
    "\n",
    "numpy_4()"
   ]
  },
  {
   "cell_type": "code",
   "execution_count": 219,
   "metadata": {},
   "outputs": [
    {
     "name": "stdout",
     "output_type": "stream",
     "text": [
      "✅ Great job! Exercise completed successfully.\n"
     ]
    }
   ],
   "source": [
    "# Given two NumPy arrays `dividend_array` and `divisor_array` of the same shape, perform element-wise division and assign the result to `divided_array`.\n",
    "@check_numpy_5\n",
    "def numpy_5(dividend_array, divisor_array):\n",
    "    # This line is mandatory and should not be removed.\n",
    "    ex_stat_init = True\n",
    "\n",
    "    # BELOW GOES YOUR CODE\n",
    "    divided_array = dividend_array / divisor_array\n",
    "    # ABOVE GOES YOUR CODE\n",
    "    return {\"divided_array\": divided_array}\n",
    "\n",
    "numpy_5()"
   ]
  },
  {
   "cell_type": "code",
   "execution_count": 220,
   "metadata": {},
   "outputs": [
    {
     "name": "stdout",
     "output_type": "stream",
     "text": [
      "✅ Great job! Exercise completed successfully.\n"
     ]
    }
   ],
   "source": [
    "# Given a NumPy array `base_array` and a scalar `exponent`, compute the element-wise exponentiation and store the result in `exponentiated_array`.\n",
    "@check_numpy_6\n",
    "def numpy_6(base_array, exponent):\n",
    "    # This line is mandatory and should not be removed.\n",
    "    ex_stat_init = True\n",
    "\n",
    "    # BELOW GOES YOUR CODE\n",
    "    exponentiated_array = base_array ** exponent\n",
    "    # ABOVE GOES YOUR CODE\n",
    "    return {\"exponentiated_array\": exponentiated_array}\n",
    "\n",
    "numpy_6()"
   ]
  },
  {
   "cell_type": "code",
   "execution_count": 221,
   "metadata": {},
   "outputs": [
    {
     "name": "stdout",
     "output_type": "stream",
     "text": [
      "✅ Great job! Exercise completed successfully.\n"
     ]
    }
   ],
   "source": [
    "# Given a list of numbers `float_list`, create a NumPy array named `float_array` with a float data type.\n",
    "@check_numpy_7\n",
    "def numpy_7(float_list):\n",
    "    # This line is mandatory and should not be removed.\n",
    "    ex_stat_init = True\n",
    "\n",
    "    # BELOW GOES YOUR CODE\n",
    "    float_array = np.array(float_list)\n",
    "    # ABOVE GOES YOUR CODE\n",
    "    return {\"float_array\": float_array}\n",
    "\n",
    "numpy_7()"
   ]
  },
  {
   "cell_type": "code",
   "execution_count": 222,
   "metadata": {},
   "outputs": [
    {
     "name": "stdout",
     "output_type": "stream",
     "text": [
      "✅ Great job! Exercise completed successfully.\n"
     ]
    }
   ],
   "source": [
    "# Use the list of lists `matrix_data` to create a 2-dimensional NumPy array named `matrix`.\n",
    "@check_numpy_8\n",
    "def numpy_8(matrix_data):\n",
    "    # This line is mandatory and should not be removed.\n",
    "    ex_stat_init = True\n",
    "\n",
    "    # BELOW GOES YOUR CODE\n",
    "    matrix = np.array(matrix_data)\n",
    "    # ABOVE GOES YOUR CODE\n",
    "    return {\"matrix\": matrix}\n",
    "\n",
    "numpy_8()"
   ]
  },
  {
   "cell_type": "code",
   "execution_count": 223,
   "metadata": {},
   "outputs": [
    {
     "name": "stdout",
     "output_type": "stream",
     "text": [
      "✅ Great job! Exercise completed successfully.\n"
     ]
    }
   ],
   "source": [
    "# Given a NumPy array `original_array` and the new shape tuple `new_shape`, reshape the array and store it in `reshaped_array`.\n",
    "@check_numpy_9\n",
    "def numpy_9(original_array, new_shape):\n",
    "    # This line is mandatory and should not be removed.\n",
    "    ex_stat_init = True\n",
    "\n",
    "    # BELOW GOES YOUR CODE\n",
    "    reshaped_array = np.reshape(original_array, new_shape)\n",
    "    # ABOVE GOES YOUR CODE\n",
    "    return {\"reshaped_array\": reshaped_array}\n",
    "\n",
    "numpy_9()"
   ]
  },
  {
   "cell_type": "code",
   "execution_count": 224,
   "metadata": {},
   "outputs": [
    {
     "name": "stdout",
     "output_type": "stream",
     "text": [
      "✅ Great job! Exercise completed successfully.\n"
     ]
    }
   ],
   "source": [
    "# Using NumPy's `arange`, generate an array named `range_array` from 0 to `end` with a step of `step`.\n",
    "@check_numpy_10\n",
    "def numpy_10(end, step):\n",
    "    # This line is mandatory and should not be removed.\n",
    "    ex_stat_init = True\n",
    "\n",
    "    # BELOW GOES YOUR CODE\n",
    "    range_array = np.arange(0, end, step)\n",
    "    # ABOVE GOES YOUR CODE\n",
    "    return {\"range_array\": range_array}\n",
    "\n",
    "numpy_10()"
   ]
  },
  {
   "cell_type": "code",
   "execution_count": 225,
   "metadata": {},
   "outputs": [
    {
     "name": "stdout",
     "output_type": "stream",
     "text": [
      "✅ Great job! Exercise completed successfully.\n"
     ]
    }
   ],
   "source": [
    "# Use NumPy's `linspace` to create an array named `linspace_array` with `num_points` evenly spaced points between `start` and `stop`.\n",
    "@check_numpy_11\n",
    "def numpy_11(start, stop, num_points):\n",
    "    # This line is mandatory and should not be removed.\n",
    "    ex_stat_init = True\n",
    "\n",
    "    # BELOW GOES YOUR CODE\n",
    "    linspace_array = np.linspace(num_points, start, stop)\n",
    "    # ABOVE GOES YOUR CODE\n",
    "    return {\"linspace_array\": linspace_array}\n",
    "\n",
    "numpy_11()"
   ]
  },
  {
   "cell_type": "code",
   "execution_count": 226,
   "metadata": {},
   "outputs": [
    {
     "name": "stdout",
     "output_type": "stream",
     "text": [
      "✅ Great job! Exercise completed successfully.\n"
     ]
    }
   ],
   "source": [
    "# Create a NumPy array named `zero_array` with a shape specified by `shape` filled with zeros.\n",
    "@check_numpy_12\n",
    "def numpy_12(shape):\n",
    "    # This line is mandatory and should not be removed.\n",
    "    ex_stat_init = True\n",
    "\n",
    "    # BELOW GOES YOUR CODE\n",
    "    zero_array = np.zeros(shape)\n",
    "    # ABOVE GOES YOUR CODE\n",
    "    return {\"zero_array\": zero_array}\n",
    "\n",
    "numpy_12()"
   ]
  },
  {
   "cell_type": "code",
   "execution_count": 227,
   "metadata": {},
   "outputs": [
    {
     "name": "stdout",
     "output_type": "stream",
     "text": [
      "✅ Great job! Exercise completed successfully.\n"
     ]
    }
   ],
   "source": [
    "# Create a NumPy array named `ones_array` with a shape given by `shape` filled with ones.\n",
    "@check_numpy_13\n",
    "def numpy_13(shape):\n",
    "    # This line is mandatory and should not be removed.\n",
    "    ex_stat_init = True\n",
    "\n",
    "    # BELOW GOES YOUR CODE\n",
    "    ones_array = np.ones(shape)\n",
    "    # ABOVE GOES YOUR CODE\n",
    "    return {\"ones_array\": ones_array}\n",
    "\n",
    "numpy_13()"
   ]
  },
  {
   "cell_type": "code",
   "execution_count": 228,
   "metadata": {},
   "outputs": [
    {
     "name": "stdout",
     "output_type": "stream",
     "text": [
      "✅ Great job! Exercise completed successfully.\n"
     ]
    }
   ],
   "source": [
    "# Given a size `n`, generate an identity matrix named `identity_matrix` of size `n x n`.\n",
    "@check_numpy_14\n",
    "def numpy_14(n):\n",
    "    # This line is mandatory and should not be removed.\n",
    "    ex_stat_init = True\n",
    "\n",
    "    # BELOW GOES YOUR CODE\n",
    "    identity_matrix = np.eye(n)\n",
    "    # ABOVE GOES YOUR CODE\n",
    "    return {\"identity_matrix\": identity_matrix}\n",
    "\n",
    "numpy_14()"
   ]
  },
  {
   "cell_type": "code",
   "execution_count": 229,
   "metadata": {},
   "outputs": [
    {
     "name": "stdout",
     "output_type": "stream",
     "text": [
      "✅ Great job! Exercise completed successfully.\n"
     ]
    }
   ],
   "source": [
    "# Given a NumPy array `matrix_array`, extract its shape and assign it to `array_shape`.\n",
    "@check_numpy_15\n",
    "def numpy_15(matrix_array):\n",
    "    # This line is mandatory and should not be removed.\n",
    "    ex_stat_init = True\n",
    "\n",
    "    # BELOW GOES YOUR CODE\n",
    "    array_shape = np.shape(matrix_array)\n",
    "    # ABOVE GOES YOUR CODE\n",
    "    return {\"array_shape\": array_shape}\n",
    "\n",
    "numpy_15()"
   ]
  },
  {
   "cell_type": "code",
   "execution_count": 230,
   "metadata": {},
   "outputs": [
    {
     "name": "stdout",
     "output_type": "stream",
     "text": [
      "✅ Great job! Exercise completed successfully.\n"
     ]
    }
   ],
   "source": [
    "# Determine the number of dimensions of the NumPy array `dim_array` and store it in `num_dimensions`.\n",
    "@check_numpy_16\n",
    "def numpy_16(dim_array):\n",
    "    # This line is mandatory and should not be removed.\n",
    "    ex_stat_init = True\n",
    "\n",
    "    # BELOW GOES YOUR CODE\n",
    "    num_dimensions = dim_array.ndim\n",
    "    # ABOVE GOES YOUR CODE\n",
    "    return {\"num_dimensions\": num_dimensions}\n",
    "\n",
    "numpy_16()"
   ]
  },
  {
   "cell_type": "code",
   "execution_count": 231,
   "metadata": {},
   "outputs": [
    {
     "name": "stdout",
     "output_type": "stream",
     "text": [
      "✅ Great job! Exercise completed successfully.\n"
     ]
    }
   ],
   "source": [
    "# Calculate the total number of elements in the NumPy array `elements_array` and store it in `total_elements`.\n",
    "@check_numpy_17\n",
    "def numpy_17(elements_array):\n",
    "    # This line is mandatory and should not be removed.\n",
    "    ex_stat_init = True\n",
    "\n",
    "    # BELOW GOES YOUR CODE\n",
    "    total_elements = elements_array.size\n",
    "    # ABOVE GOES YOUR CODE\n",
    "    return {\"total_elements\": total_elements}\n",
    "\n",
    "numpy_17()"
   ]
  },
  {
   "cell_type": "code",
   "execution_count": 232,
   "metadata": {},
   "outputs": [
    {
     "name": "stdout",
     "output_type": "stream",
     "text": [
      "✅ Great job! Exercise completed successfully.\n"
     ]
    }
   ],
   "source": [
    "# Assign the data type of elements in the NumPy array `type_array` to the variable `element_type`.\n",
    "@check_numpy_18\n",
    "def numpy_18(type_array):\n",
    "    # This line is mandatory and should not be removed.\n",
    "    ex_stat_init = True\n",
    "\n",
    "    # BELOW GOES YOUR CODE\n",
    "    element_type = type_array.dtype\n",
    "    # ABOVE GOES YOUR CODE\n",
    "    return {\"element_type\": element_type}\n",
    "\n",
    "numpy_18()"
   ]
  },
  {
   "cell_type": "code",
   "execution_count": 233,
   "metadata": {},
   "outputs": [
    {
     "name": "stdout",
     "output_type": "stream",
     "text": [
      "✅ Great job! Exercise completed successfully.\n"
     ]
    }
   ],
   "source": [
    "# Compute the memory size (in bytes) of each element in the array `memory_array` and assign it to `element_size`.\n",
    "@check_numpy_19\n",
    "def numpy_19(memory_array):\n",
    "    # This line is mandatory and should not be removed.\n",
    "    ex_stat_init = True\n",
    "\n",
    "    # BELOW GOES YOUR CODE\n",
    "    element_size = memory_array.itemsize\n",
    "    # ABOVE GOES YOUR CODE\n",
    "    return {\"element_size\": element_size}\n",
    "\n",
    "numpy_19()"
   ]
  },
  {
   "cell_type": "code",
   "execution_count": 234,
   "metadata": {},
   "outputs": [
    {
     "name": "stdout",
     "output_type": "stream",
     "text": [
      "✅ Great job! Exercise completed successfully.\n"
     ]
    }
   ],
   "source": [
    "# Convert the integer NumPy array `int_array` to a float array and save it in `float_converted_array`.\n",
    "@check_numpy_20\n",
    "def numpy_20(int_array):\n",
    "    # This line is mandatory and should not be removed.\n",
    "    ex_stat_init = True\n",
    "\n",
    "    # BELOW GOES YOUR CODE\n",
    "    float_converted_array = int_array.astype(float)\n",
    "    # ABOVE GOES YOUR CODE\n",
    "    return {\"float_converted_array\": float_converted_array}\n",
    "\n",
    "numpy_20()"
   ]
  },
  {
   "cell_type": "code",
   "execution_count": 235,
   "metadata": {},
   "outputs": [
    {
     "name": "stdout",
     "output_type": "stream",
     "text": [
      "✅ Great job! Exercise completed successfully.\n"
     ]
    }
   ],
   "source": [
    "# Given a NumPy array `access_array` and an index `index`, assign the element at that index to `selected_element`.\n",
    "@check_numpy_21\n",
    "def numpy_21(access_array, index):\n",
    "    # This line is mandatory and should not be removed.\n",
    "    ex_stat_init = True\n",
    "\n",
    "    # BELOW GOES YOUR CODE\n",
    "    selected_element = access_array[index]\n",
    "    # ABOVE GOES YOUR CODE\n",
    "    return {\"selected_element\": selected_element}\n",
    "\n",
    "numpy_21()"
   ]
  },
  {
   "cell_type": "code",
   "execution_count": 236,
   "metadata": {},
   "outputs": [
    {
     "name": "stdout",
     "output_type": "stream",
     "text": [
      "✅ Great job! Exercise completed successfully.\n"
     ]
    }
   ],
   "source": [
    "# Given a NumPy array `slice_array`, extract a slice using `start` and `end` indices, and store it in `sliced_array`.\n",
    "@check_numpy_22\n",
    "def numpy_22(slice_array, start, end):\n",
    "    # This line is mandatory and should not be removed.\n",
    "    ex_stat_init = True\n",
    "\n",
    "    # BELOW GOES YOUR CODE\n",
    "    sliced_array = slice_array[start:end]\n",
    "    # ABOVE GOES YOUR CODE\n",
    "    return {\"sliced_array\": sliced_array}\n",
    "\n",
    "numpy_22()"
   ]
  },
  {
   "cell_type": "code",
   "execution_count": 237,
   "metadata": {},
   "outputs": [
    {
     "name": "stdout",
     "output_type": "stream",
     "text": [
      "✅ Great job! Exercise completed successfully.\n"
     ]
    }
   ],
   "source": [
    "# Increase each element of `one_d_array` by 5 and store the result in `increased_array`.\n",
    "@check_numpy_23\n",
    "def numpy_23(one_d_array):\n",
    "    # This line is mandatory and should not be removed.\n",
    "    ex_stat_init = True\n",
    "\n",
    "    # BELOW GOES YOUR CODE\n",
    "    increased_array = one_d_array + 5\n",
    "    # ABOVE GOES YOUR CODE\n",
    "    return {\"increased_array\": increased_array}\n",
    "\n",
    "numpy_23()"
   ]
  },
  {
   "cell_type": "code",
   "execution_count": 238,
   "metadata": {},
   "outputs": [
    {
     "name": "stdout",
     "output_type": "stream",
     "text": [
      "✅ Great job! Exercise completed successfully.\n"
     ]
    }
   ],
   "source": [
    "# Double the values in the 2D array `multi_d_array` and save it in `doubled_array`.\n",
    "@check_numpy_24\n",
    "def numpy_24(multi_d_array):\n",
    "    # This line is mandatory and should not be removed.\n",
    "    ex_stat_init = True\n",
    "\n",
    "    # BELOW GOES YOUR CODE\n",
    "    doubled_array = multi_d_array + multi_d_array\n",
    "    # ABOVE GOES YOUR CODE\n",
    "    return {\"doubled_array\": doubled_array}\n",
    "\n",
    "numpy_24()"
   ]
  },
  {
   "cell_type": "code",
   "execution_count": 239,
   "metadata": {},
   "outputs": [
    {
     "name": "stdout",
     "output_type": "stream",
     "text": [
      "✅ Great job! Exercise completed successfully.\n"
     ]
    }
   ],
   "source": [
    "# Given a NumPy array `mask_array` and a `mask_value`, create `filtered_array` containing only the elements of `mask_array` that are greater than `mask_value`.\n",
    "@check_numpy_25\n",
    "def numpy_25(mask_array, mask_value):\n",
    "    # This line is mandatory and should not be removed.\n",
    "    ex_stat_init = True\n",
    "\n",
    "    # BELOW GOES YOUR CODE\n",
    "    filtered_array = mask_array[mask_array > mask_value]\n",
    "    # ABOVE GOES YOUR CODE\n",
    "    return {\"filtered_array\": filtered_array}\n",
    "\n",
    "numpy_25()"
   ]
  },
  {
   "cell_type": "code",
   "execution_count": 240,
   "metadata": {},
   "outputs": [
    {
     "name": "stdout",
     "output_type": "stream",
     "text": [
      "✅ Great job! Exercise completed successfully.\n"
     ]
    }
   ],
   "source": [
    "# Apply masking to the 2D array `multi_mask_array` that keeps all elements greater than the 'condition_value' and store the satisfying elements in `masked_array_2d`.\n",
    "@check_numpy_26\n",
    "def numpy_26(multi_mask_array, condition_value):\n",
    "    # This line is mandatory and should not be removed.\n",
    "    ex_stat_init = True\n",
    "\n",
    "    # BELOW GOES YOUR CODE\n",
    "    masked_array_2d = multi_mask_array[multi_mask_array > condition_value]\n",
    "    # ABOVE GOES YOUR CODE\n",
    "    return {\"masked_array_2d\": masked_array_2d}\n",
    "\n",
    "numpy_26()"
   ]
  },
  {
   "cell_type": "code",
   "execution_count": 241,
   "metadata": {},
   "outputs": [
    {
     "name": "stdout",
     "output_type": "stream",
     "text": [
      "✅ Great job! Exercise completed successfully.\n"
     ]
    }
   ],
   "source": [
    "# Calculate the sum of elements for each column of a 2D array `sum_2d_array` and store it in `column_sums`.\n",
    "@check_numpy_27\n",
    "def numpy_27(sum_2d_array):\n",
    "    # This line is mandatory and should not be removed.\n",
    "    ex_stat_init = True\n",
    "\n",
    "    # BELOW GOES YOUR CODE\n",
    "    column_sums = np.sum(sum_2d_array, axis=0)\n",
    "    # ABOVE GOES YOUR CODE\n",
    "    return {\"column_sums\": column_sums}\n",
    "\n",
    "numpy_27()"
   ]
  },
  {
   "cell_type": "code",
   "execution_count": 242,
   "metadata": {},
   "outputs": [
    {
     "name": "stdout",
     "output_type": "stream",
     "text": [
      "✅ Great job! Exercise completed successfully.\n"
     ]
    }
   ],
   "source": [
    "# Find the minimum value in the NumPy array `min_array` and assign it to `min_value`.\n",
    "@check_numpy_28\n",
    "def numpy_28(min_array):\n",
    "    # This line is mandatory and should not be removed.\n",
    "    ex_stat_init = True\n",
    "\n",
    "    # BELOW GOES YOUR CODE\n",
    "    min_value = np.min(min_array)\n",
    "    # ABOVE GOES YOUR CODE\n",
    "    return {\"min_value\": min_value}\n",
    "\n",
    "numpy_28()"
   ]
  },
  {
   "cell_type": "code",
   "execution_count": 243,
   "metadata": {},
   "outputs": [
    {
     "name": "stdout",
     "output_type": "stream",
     "text": [
      "✅ Great job! Exercise completed successfully.\n"
     ]
    }
   ],
   "source": [
    "# Find the maximum value in the NumPy array `max_array` and assign it to `max_value`.\n",
    "@check_numpy_29\n",
    "def numpy_29(max_array):\n",
    "    # This line is mandatory and should not be removed.\n",
    "    ex_stat_init = True\n",
    "\n",
    "    # BELOW GOES YOUR CODE\n",
    "    max_value = np.max(max_array)\n",
    "    # ABOVE GOES YOUR CODE\n",
    "    return {\"max_value\": max_value}\n",
    "\n",
    "numpy_29()"
   ]
  },
  {
   "cell_type": "code",
   "execution_count": 244,
   "metadata": {},
   "outputs": [
    {
     "name": "stdout",
     "output_type": "stream",
     "text": [
      "✅ Great job! Exercise completed successfully.\n"
     ]
    }
   ],
   "source": [
    "# Calculate the mean of `mean_array` and store it in `mean_value`.\n",
    "@check_numpy_30\n",
    "def numpy_30(mean_array):\n",
    "    # This line is mandatory and should not be removed.\n",
    "    ex_stat_init = True\n",
    "\n",
    "    # BELOW GOES YOUR CODE\n",
    "    mean_value = np.mean(mean_array)\n",
    "    # ABOVE GOES YOUR CODE\n",
    "    return {\"mean_value\": mean_value}\n",
    "\n",
    "numpy_30()"
   ]
  },
  {
   "cell_type": "code",
   "execution_count": 245,
   "metadata": {},
   "outputs": [
    {
     "name": "stdout",
     "output_type": "stream",
     "text": [
      "✅ Great job! Exercise completed successfully.\n"
     ]
    }
   ],
   "source": [
    "# Calculate the standard deviation of the NumPy array `std_array` and assign it to `std_dev`.\n",
    "@check_numpy_31\n",
    "def numpy_31(std_array):\n",
    "    # This line is mandatory and should not be removed.\n",
    "    ex_stat_init = True\n",
    "\n",
    "    # BELOW GOES YOUR CODE\n",
    "    std_dev = np.std(std_array)\n",
    "    # ABOVE GOES YOUR CODE\n",
    "    return {\"std_dev\": std_dev}\n",
    "\n",
    "numpy_31()"
   ]
  },
  {
   "cell_type": "code",
   "execution_count": 246,
   "metadata": {},
   "outputs": [
    {
     "name": "stdout",
     "output_type": "stream",
     "text": [
      "✅ Great job! Exercise completed successfully.\n"
     ]
    }
   ],
   "source": [
    "# Compute the square root of each element in `sqrt_array` using `np.sqrt()` and save the result in `sqrt_result`.\n",
    "@check_numpy_32\n",
    "def numpy_32(sqrt_array):\n",
    "    # This line is mandatory and should not be removed.\n",
    "    ex_stat_init = True\n",
    "\n",
    "    # BELOW GOES YOUR CODE\n",
    "    sqrt_result = np.sqrt(sqrt_array)\n",
    "    # ABOVE GOES YOUR CODE\n",
    "    return {\"sqrt_result\": sqrt_result}\n",
    "\n",
    "numpy_32()"
   ]
  },
  {
   "cell_type": "code",
   "execution_count": 247,
   "metadata": {},
   "outputs": [
    {
     "name": "stdout",
     "output_type": "stream",
     "text": [
      "✅ Great job! Exercise completed successfully.\n"
     ]
    }
   ],
   "source": [
    "# Calculate the exponential of each element in `exp_array` with `np.exp()` and store it in `exp_result`.\n",
    "@check_numpy_33\n",
    "def numpy_33(exp_array):\n",
    "    # This line is mandatory and should not be removed.\n",
    "    ex_stat_init = True\n",
    "\n",
    "    # BELOW GOES YOUR CODE\n",
    "    exp_result = np.exp(exp_array)\n",
    "    # ABOVE GOES YOUR CODE\n",
    "    return {\"exp_result\": exp_result}\n",
    "\n",
    "numpy_33()"
   ]
  },
  {
   "cell_type": "code",
   "execution_count": 248,
   "metadata": {},
   "outputs": [
    {
     "name": "stdout",
     "output_type": "stream",
     "text": [
      "✅ Great job! Exercise completed successfully.\n"
     ]
    }
   ],
   "source": [
    "# Compute the natural logarithm of each element in `log_array` with `np.log()` and save it in `log_result`.\n",
    "@check_numpy_34\n",
    "def numpy_34(log_array):\n",
    "    # This line is mandatory and should not be removed.\n",
    "    ex_stat_init = True\n",
    "\n",
    "    # BELOW GOES YOUR CODE\n",
    "    log_result = np.log(log_array)\n",
    "    # ABOVE GOES YOUR CODE\n",
    "    return {\"log_result\": log_result}\n",
    "\n",
    "numpy_34()"
   ]
  },
  {
   "cell_type": "code",
   "execution_count": 249,
   "metadata": {},
   "outputs": [
    {
     "name": "stdout",
     "output_type": "stream",
     "text": [
      "✅ Great job! Exercise completed successfully.\n"
     ]
    }
   ],
   "source": [
    "# Calculate the sine of each element in `sin_array` using `np.sin()` and store the result in `sin_result`.\n",
    "@check_numpy_35\n",
    "def numpy_35(sin_array):\n",
    "    # This line is mandatory and should not be removed.\n",
    "    ex_stat_init = True\n",
    "\n",
    "    # BELOW GOES YOUR CODE\n",
    "    sin_result = np.sin(sin_array)\n",
    "    # ABOVE GOES YOUR CODE\n",
    "    return {\"sin_result\": sin_result}\n",
    "\n",
    "numpy_35()"
   ]
  },
  {
   "cell_type": "code",
   "execution_count": 250,
   "metadata": {},
   "outputs": [
    {
     "name": "stdout",
     "output_type": "stream",
     "text": [
      "✅ Great job! Exercise completed successfully.\n"
     ]
    }
   ],
   "source": [
    "# Compute the cosine of `cos_array` with `np.cos()` and save it in `cos_result`.\n",
    "@check_numpy_36\n",
    "def numpy_36(cos_array):\n",
    "    # This line is mandatory and should not be removed.\n",
    "    ex_stat_init = True\n",
    "\n",
    "    # BELOW GOES YOUR CODE\n",
    "    cos_result = np.cos(cos_array)\n",
    "    # ABOVE GOES YOUR CODE\n",
    "    return {\"cos_result\": cos_result}\n",
    "\n",
    "numpy_36()"
   ]
  },
  {
   "cell_type": "code",
   "execution_count": 251,
   "metadata": {},
   "outputs": [
    {
     "name": "stdout",
     "output_type": "stream",
     "text": [
      "✅ Great job! Exercise completed successfully.\n"
     ]
    }
   ],
   "source": [
    "# Calculate the tangent of each element in `tan_array` using `np.tan()` and save it in `tan_result`.\n",
    "@check_numpy_37\n",
    "def numpy_37(tan_array):\n",
    "    # This line is mandatory and should not be removed.\n",
    "    ex_stat_init = True\n",
    "\n",
    "    # BELOW GOES YOUR CODE\n",
    "    tan_result = np.tan(tan_array)\n",
    "    # ABOVE GOES YOUR CODE\n",
    "    return {\"tan_result\": tan_result}\n",
    "\n",
    "numpy_37()"
   ]
  },
  {
   "cell_type": "code",
   "execution_count": 252,
   "metadata": {},
   "outputs": [
    {
     "name": "stdout",
     "output_type": "stream",
     "text": [
      "✅ Great job! Exercise completed successfully.\n"
     ]
    }
   ],
   "source": [
    "# Transpose the 2D array `transpose_array` using `np.transpose()` and store in `transposed_array`.\n",
    "@check_numpy_38\n",
    "def numpy_38(transpose_array):\n",
    "    # This line is mandatory and should not be removed.\n",
    "    ex_stat_init = True\n",
    "\n",
    "    # BELOW GOES YOUR CODE\n",
    "    transposed_array = np.transpose(transpose_array)\n",
    "    # ABOVE GOES YOUR CODE\n",
    "    return {\"transposed_array\": transposed_array}\n",
    "\n",
    "numpy_38()"
   ]
  },
  {
   "cell_type": "code",
   "execution_count": 253,
   "metadata": {},
   "outputs": [
    {
     "name": "stdout",
     "output_type": "stream",
     "text": [
      "✅ Great job! Exercise completed successfully.\n"
     ]
    }
   ],
   "source": [
    "# Compute the dot product of `vector1` and `vector2` using `np.dot()` and assign the result to `dot_product_result`.\n",
    "@check_numpy_39\n",
    "def numpy_39(vector1, vector2):\n",
    "    # This line is mandatory and should not be removed.\n",
    "    ex_stat_init = True\n",
    "\n",
    "    # BELOW GOES YOUR CODE\n",
    "    dot_product_result = np.dot(vector1, vector2)\n",
    "    # ABOVE GOES YOUR CODE\n",
    "    return {\"dot_product_result\": dot_product_result}\n",
    "\n",
    "numpy_39()"
   ]
  },
  {
   "cell_type": "code",
   "execution_count": 254,
   "metadata": {},
   "outputs": [
    {
     "name": "stdout",
     "output_type": "stream",
     "text": [
      "✅ Great job! Exercise completed successfully.\n"
     ]
    }
   ],
   "source": [
    "# Calculate the inverse of the square matrix `square_matrix` using `np.linalg.inv()` and store it in `inverse_matrix`.\n",
    "@check_numpy_40\n",
    "def numpy_40(square_matrix):\n",
    "    # This line is mandatory and should not be removed.\n",
    "    ex_stat_init = True\n",
    "\n",
    "    # BELOW GOES YOUR CODE\n",
    "    inverse_matrix = np.linalg.inv(square_matrix)\n",
    "    # ABOVE GOES YOUR CODE\n",
    "    return {\"inverse_matrix\": inverse_matrix}\n",
    "\n",
    "numpy_40()"
   ]
  },
  {
   "cell_type": "code",
   "execution_count": 255,
   "metadata": {},
   "outputs": [
    {
     "name": "stdout",
     "output_type": "stream",
     "text": [
      "✅ Great job! Exercise completed successfully.\n"
     ]
    }
   ],
   "source": [
    "# Find the determinant of the square matrix `det_matrix` using `np.linalg.det()` and assign it to `determinant_value`.\n",
    "@check_numpy_41\n",
    "def numpy_41(det_matrix):\n",
    "    # This line is mandatory and should not be removed.\n",
    "    ex_stat_init = True\n",
    "\n",
    "    # BELOW GOES YOUR CODE\n",
    "    determinant_value = np.linalg.det(det_matrix)\n",
    "    # ABOVE GOES YOUR CODE\n",
    "    return {\"determinant_value\": determinant_value}\n",
    "\n",
    "numpy_41()"
   ]
  },
  {
   "cell_type": "code",
   "execution_count": 256,
   "metadata": {},
   "outputs": [
    {
     "name": "stdout",
     "output_type": "stream",
     "text": [
      "✅ Great job! Exercise completed successfully.\n"
     ]
    }
   ],
   "source": [
    "# Concatenate `array_x` and `array_y` vertically using `np.concatenate()` and save the result in `concat_vertical`.\n",
    "@check_numpy_42\n",
    "def numpy_42(array_x, array_y):\n",
    "    # This line is mandatory and should not be removed.\n",
    "    ex_stat_init = True\n",
    "\n",
    "    # BELOW GOES YOUR CODE\n",
    "    concat_vertical = np.concatenate((array_x, array_x))\n",
    "    # ABOVE GOES YOUR CODE\n",
    "    return {\"concat_vertical\": concat_vertical}\n",
    "\n",
    "numpy_42()"
   ]
  },
  {
   "cell_type": "code",
   "execution_count": 257,
   "metadata": {},
   "outputs": [
    {
     "name": "stdout",
     "output_type": "stream",
     "text": [
      "✅ Great job! Exercise completed successfully.\n"
     ]
    }
   ],
   "source": [
    "# Stack `stack_array1` and `stack_array2` horizontally using `np.hstack()` and assign it to `stacked_horizontal`.\n",
    "@check_numpy_43\n",
    "def numpy_43(stack_array1, stack_array2):\n",
    "    # This line is mandatory and should not be removed.\n",
    "    ex_stat_init = True\n",
    "\n",
    "    # BELOW GOES YOUR CODE\n",
    "    stacked_horizontal = np.hstack((stack_array1, stack_array2))\n",
    "    # ABOVE GOES YOUR CODE\n",
    "    return {\"stacked_horizontal\": stacked_horizontal}\n",
    "\n",
    "numpy_43()"
   ]
  },
  {
   "cell_type": "code",
   "execution_count": 258,
   "metadata": {},
   "outputs": [
    {
     "name": "stdout",
     "output_type": "stream",
     "text": [
      "✅ Great job! Exercise completed successfully.\n"
     ]
    }
   ],
   "source": [
    "# Add a scalar `scalar_value` to each element of `broadcast_array` using broadcasting and store in `broadcast_result`.\n",
    "@check_numpy_44\n",
    "def numpy_44(broadcast_array, scalar_value):\n",
    "    # This line is mandatory and should not be removed.\n",
    "    ex_stat_init = True\n",
    "\n",
    "    # BELOW GOES YOUR CODE\n",
    "    broadcast_result = broadcast_array + scalar_value\n",
    "    # ABOVE GOES YOUR CODE\n",
    "    return {\"broadcast_result\": broadcast_result}\n",
    "\n",
    "numpy_44()"
   ]
  },
  {
   "cell_type": "code",
   "execution_count": 259,
   "metadata": {},
   "outputs": [
    {
     "name": "stdout",
     "output_type": "stream",
     "text": [
      "✅ Great job! Exercise completed successfully.\n"
     ]
    }
   ],
   "source": [
    "# Given a 1D array `small_array` and a 2D array `large_array`, utilize broadcasting to add them and store the result in `broadcast_sum`.\n",
    "@check_numpy_45\n",
    "def numpy_45(small_array, large_array):\n",
    "    # This line is mandatory and should not be removed.\n",
    "    ex_stat_init = True\n",
    "\n",
    "    # BELOW GOES YOUR CODE\n",
    "    broadcast_sum = large_array + small_array\n",
    "    # ABOVE GOES YOUR CODE\n",
    "    return {\"broadcast_sum\": broadcast_sum}\n",
    "\n",
    "numpy_45()"
   ]
  },
  {
   "cell_type": "code",
   "execution_count": 260,
   "metadata": {},
   "outputs": [
    {
     "name": "stdout",
     "output_type": "stream",
     "text": [
      "✅ Great job! Exercise completed successfully.\n"
     ]
    }
   ],
   "source": [
    "# Subtract a scalar value `scalar_sub` from each element of `two_d_array`.\n",
    "@check_numpy_46\n",
    "def numpy_46(two_d_array, scalar_sub):\n",
    "    # This line is mandatory and should not be removed.\n",
    "    ex_stat_init = True\n",
    "\n",
    "    # BELOW GOES YOUR CODE\n",
    "    two_d_array = two_d_array - scalar_sub\n",
    "    # ABOVE GOES YOUR CODE\n",
    "    return {\"two_d_array\": two_d_array}\n",
    "\n",
    "numpy_46()"
   ]
  },
  {
   "cell_type": "code",
   "execution_count": 261,
   "metadata": {},
   "outputs": [
    {
     "name": "stdout",
     "output_type": "stream",
     "text": [
      "✅ Great job! Exercise completed successfully.\n"
     ]
    }
   ],
   "source": [
    "# Given dimensions `dim1`, `dim2`, and `dim3`, create a 3D NumPy array named `random_int_array` containing random integers between 0 and 10.\n",
    "@check_numpy_47\n",
    "def numpy_47(dim1, dim2, dim3):\n",
    "    # This line is mandatory and should not be removed.\n",
    "    ex_stat_init = True\n",
    "\n",
    "    # BELOW GOES YOUR CODE\n",
    "    random_int_array = np.random.randint(0, 10, size=(dim1, dim2, dim3))\n",
    "    # ABOVE GOES YOUR CODE\n",
    "    return {\"random_int_array\": random_int_array}\n",
    "\n",
    "numpy_47()"
   ]
  },
  {
   "cell_type": "code",
   "execution_count": 262,
   "metadata": {},
   "outputs": [
    {
     "name": "stdout",
     "output_type": "stream",
     "text": [
      "✅ Great job! Exercise completed successfully.\n"
     ]
    }
   ],
   "source": [
    "# Convert the 2D array `multi_array` into a 1D array named `flattened`.\n",
    "@check_numpy_48\n",
    "def numpy_48(multi_array):\n",
    "    # This line is mandatory and should not be removed.\n",
    "    ex_stat_init = True\n",
    "\n",
    "    # BELOW GOES YOUR CODE\n",
    "    flattened = multi_array.flatten()\n",
    "    # ABOVE GOES YOUR CODE\n",
    "    return {\"flattened\": flattened}\n",
    "\n",
    "numpy_48()"
   ]
  },
  {
   "cell_type": "code",
   "execution_count": 263,
   "metadata": {},
   "outputs": [
    {
     "name": "stdout",
     "output_type": "stream",
     "text": [
      "✅ Great job! Exercise completed successfully.\n"
     ]
    }
   ],
   "source": [
    "# Given a NumPy array `nonzero_array`, use `np.nonzero()` to find indices of non-zero elements and assign them to `nonzero_indices`.\n",
    "@check_numpy_49\n",
    "def numpy_49(nonzero_array):\n",
    "    # This line is mandatory and should not be removed.\n",
    "    ex_stat_init = True\n",
    "\n",
    "    # BELOW GOES YOUR CODE\n",
    "    nonzero_indices = np.nonzero(nonzero_array)\n",
    "    # ABOVE GOES YOUR CODE\n",
    "    return {\"nonzero_indices\": nonzero_indices}\n",
    "\n",
    "numpy_49()"
   ]
  },
  {
   "cell_type": "code",
   "execution_count": 264,
   "metadata": {},
   "outputs": [
    {
     "name": "stdout",
     "output_type": "stream",
     "text": [
      "✅ Great job! Exercise completed successfully.\n"
     ]
    }
   ],
   "source": [
    "# Create a diagonal matrix `diagonal_matrix` with the given 1D array `diag_elements` using `np.diag()`.\n",
    "@check_numpy_50\n",
    "def numpy_50(diag_elements):\n",
    "    # This line is mandatory and should not be removed.\n",
    "    ex_stat_init = True\n",
    "\n",
    "    # BELOW GOES YOUR CODE\n",
    "    diagonal_matrix = np.diag(diag_elements)\n",
    "    # ABOVE GOES YOUR CODE\n",
    "    return {\"diagonal_matrix\": diagonal_matrix}\n",
    "\n",
    "numpy_50()"
   ]
  },
  {
   "cell_type": "code",
   "execution_count": 265,
   "metadata": {},
   "outputs": [
    {
     "name": "stdout",
     "output_type": "stream",
     "text": [
      "✅ Great job! Exercise completed successfully.\n"
     ]
    }
   ],
   "source": [
    "# Update values in `conditional_array` to `new_value` where the condition `np.where_condition` is satisfied, and save it in `updated_array`.\n",
    "@check_numpy_51\n",
    "def numpy_51(conditional_array, np_where_condition, new_value):\n",
    "    # This line is mandatory and should not be removed.\n",
    "    ex_stat_init = True\n",
    "\n",
    "    # BELOW GOES YOUR CODE\n",
    "    updated_array = np.where(np_where_condition, conditional_array, new_value)\n",
    "    # ABOVE GOES YOUR CODE\n",
    "    return {\"updated_array\": updated_array}\n",
    "\n",
    "numpy_51()"
   ]
  },
  {
   "cell_type": "code",
   "execution_count": 266,
   "metadata": {},
   "outputs": [
    {
     "name": "stdout",
     "output_type": "stream",
     "text": [
      "✅ Great job! Exercise completed successfully.\n"
     ]
    }
   ],
   "source": [
    "# Given two arrays `max_array_a` and `max_array_b`, compute the element-wise maximum and store it in `element_max`.\n",
    "@check_numpy_52\n",
    "def numpy_52(max_array_a, max_array_b):\n",
    "    # This line is mandatory and should not be removed.\n",
    "    ex_stat_init = True\n",
    "\n",
    "    # BELOW GOES YOUR CODE\n",
    "    element_max = np.maximum(max_array_a, max_array_b)\n",
    "    # ABOVE GOES YOUR CODE\n",
    "    return {\"element_max\": element_max}\n",
    "\n",
    "numpy_52()"
   ]
  },
  {
   "cell_type": "code",
   "execution_count": 267,
   "metadata": {},
   "outputs": [
    {
     "name": "stdout",
     "output_type": "stream",
     "text": [
      "✅ Great job! Exercise completed successfully.\n"
     ]
    }
   ],
   "source": [
    "# Calculate the cumulative sum of elements in `cumsum_array` and assign it to `cumulative_sum`.\n",
    "@check_numpy_53\n",
    "def numpy_53(cumsum_array):\n",
    "    # This line is mandatory and should not be removed.\n",
    "    ex_stat_init = True\n",
    "\n",
    "    # BELOW GOES YOUR CODE\n",
    "    cumulative_sum = np.cumsum(cumsum_array)\n",
    "    # ABOVE GOES YOUR CODE\n",
    "    return {\"cumulative_sum\": cumulative_sum}\n",
    "\n",
    "numpy_53()"
   ]
  },
  {
   "cell_type": "code",
   "execution_count": 268,
   "metadata": {},
   "outputs": [
    {
     "name": "stdout",
     "output_type": "stream",
     "text": [
      "✅ Great job! Exercise completed successfully.\n"
     ]
    }
   ],
   "source": [
    "# Extract unique elements from the NumPy array `unique_array` and store them in `unique_elements`.\n",
    "@check_numpy_54\n",
    "def numpy_54(unique_array):\n",
    "    # This line is mandatory and should not be removed.\n",
    "    ex_stat_init = True\n",
    "\n",
    "    # BELOW GOES YOUR CODE\n",
    "    unique_elements = np.unique(unique_array)\n",
    "    # ABOVE GOES YOUR CODE\n",
    "    return {\"unique_elements\": unique_elements}\n",
    "\n",
    "numpy_54()"
   ]
  },
  {
   "cell_type": "code",
   "execution_count": 269,
   "metadata": {},
   "outputs": [
    {
     "name": "stdout",
     "output_type": "stream",
     "text": [
      "✅ Great job! Exercise completed successfully.\n"
     ]
    }
   ],
   "source": [
    "# Sort the array `sort_array` in ascending order and assign it to `sorted_array`.\n",
    "@check_numpy_55\n",
    "def numpy_55(sort_array):\n",
    "    # This line is mandatory and should not be removed.\n",
    "    ex_stat_init = True\n",
    "\n",
    "    # BELOW GOES YOUR CODE\n",
    "    sorted_array = np.sort(sort_array)\n",
    "    # ABOVE GOES YOUR CODE\n",
    "    return {\"sorted_array\": sorted_array}\n",
    "\n",
    "numpy_55()"
   ]
  },
  {
   "cell_type": "code",
   "execution_count": 270,
   "metadata": {},
   "outputs": [
    {
     "name": "stdout",
     "output_type": "stream",
     "text": [
      "✅ Great job! Exercise completed successfully.\n"
     ]
    }
   ],
   "source": [
    "# Compute the intersection of two arrays `intersect_array1` and `intersect_array2` and save it in `intersection`.\n",
    "@check_numpy_56\n",
    "def numpy_56(intersect_array1, intersect_array2):\n",
    "    # This line is mandatory and should not be removed.\n",
    "    ex_stat_init = True\n",
    "\n",
    "    # BELOW GOES YOUR CODE\n",
    "    intersection = np.intersect1d(intersect_array1, intersect_array2)\n",
    "    # ABOVE GOES YOUR CODE\n",
    "    return {\"intersection\": intersection}\n",
    "\n",
    "numpy_56()"
   ]
  },
  {
   "cell_type": "code",
   "execution_count": 271,
   "metadata": {},
   "outputs": [
    {
     "name": "stdout",
     "output_type": "stream",
     "text": [
      "✅ Great job! Exercise completed successfully.\n"
     ]
    }
   ],
   "source": [
    "# Join `join_array1`, `join_array2`, and `join_array3` along a new axis using `np.stack()` and store it in `joined_array`.\n",
    "@check_numpy_57\n",
    "def numpy_57(join_array1, join_array2, join_array3):\n",
    "    # This line is mandatory and should not be removed.\n",
    "    ex_stat_init = True\n",
    "\n",
    "    # BELOW GOES YOUR CODE\n",
    "    joined_array = np.stack((join_array1, join_array2, join_array3))\n",
    "    # ABOVE GOES YOUR CODE\n",
    "    return {\"joined_array\": joined_array}\n",
    "\n",
    "numpy_57()"
   ]
  },
  {
   "cell_type": "code",
   "execution_count": 272,
   "metadata": {},
   "outputs": [
    {
     "name": "stdout",
     "output_type": "stream",
     "text": [
      "✅ Great job! Exercise completed successfully.\n"
     ]
    }
   ],
   "source": [
    "# Split `split_array` into `num_splits` parts using `np.array_split()` and assign the result to `split_parts`.\n",
    "@check_numpy_58\n",
    "def numpy_58(split_array, num_splits):\n",
    "    # This line is mandatory and should not be removed.\n",
    "    ex_stat_init = True\n",
    "\n",
    "    # BELOW GOES YOUR CODE\n",
    "    split_parts = np.array_split(split_array, num_splits)\n",
    "    # ABOVE GOES YOUR CODE\n",
    "    return {\"split_parts\": split_parts}\n",
    "\n",
    "numpy_58()"
   ]
  },
  {
   "cell_type": "code",
   "execution_count": 273,
   "metadata": {},
   "outputs": [
    {
     "name": "stdout",
     "output_type": "stream",
     "text": [
      "✅ Great job! Exercise completed successfully.\n"
     ]
    }
   ],
   "source": [
    "# Count elements in `count_array` that are greater than `threshold` and assign the count to `greater_count`.\n",
    "@check_numpy_59\n",
    "def numpy_59(count_array, threshold):\n",
    "    # This line is mandatory and should not be removed.\n",
    "    ex_stat_init = True\n",
    "\n",
    "    # BELOW GOES YOUR CODE\n",
    "    greater_count = np.sum(count_array > threshold)\n",
    "    # ABOVE GOES YOUR CODE\n",
    "    return {\"greater_count\": greater_count}\n",
    "\n",
    "numpy_59()"
   ]
  },
  {
   "cell_type": "code",
   "execution_count": 274,
   "metadata": {},
   "outputs": [
    {
     "name": "stdout",
     "output_type": "stream",
     "text": [
      "✅ Great job! Exercise completed successfully.\n"
     ]
    }
   ],
   "source": [
    "# Rotate the 2D array `rotate_array` 90 degrees counterclockwise using `np.rot90()` and store it in `rotated_array`.\n",
    "@check_numpy_60\n",
    "def numpy_60(rotate_array):\n",
    "    # This line is mandatory and should not be removed.\n",
    "    ex_stat_init = True\n",
    "\n",
    "    # BELOW GOES YOUR CODE\n",
    "    rotated_array = np.rot90(rotate_array)\n",
    "    # ABOVE GOES YOUR CODE\n",
    "    return {\"rotated_array\": rotated_array}\n",
    "\n",
    "numpy_60()"
   ]
  },
  {
   "cell_type": "code",
   "execution_count": 275,
   "metadata": {},
   "outputs": [
    {
     "name": "stdout",
     "output_type": "stream",
     "text": [
      "✅ Great job! Exercise completed successfully.\n"
     ]
    }
   ],
   "source": [
    "# Create an array named `random_float_array` with shape `float_shape` containing random floats between 0 and 1.\n",
    "@check_numpy_61\n",
    "def numpy_61(float_shape):\n",
    "    # This line is mandatory and should not be removed.\n",
    "    ex_stat_init = True\n",
    "\n",
    "    # BELOW GOES YOUR CODE\n",
    "    random_float_array = np.random.rand(*float_shape)\n",
    "    # ABOVE GOES YOUR CODE\n",
    "    return {\"random_float_array\": random_float_array}\n",
    "\n",
    "numpy_61()"
   ]
  },
  {
   "cell_type": "code",
   "execution_count": 276,
   "metadata": {},
   "outputs": [
    {
     "name": "stdout",
     "output_type": "stream",
     "text": [
      "✅ Great job! Exercise completed successfully.\n"
     ]
    }
   ],
   "source": [
    "# Compute the median of `median_array` and store it in `median_value`.\n",
    "@check_numpy_62\n",
    "def numpy_62(median_array):\n",
    "    # This line is mandatory and should not be removed.\n",
    "    ex_stat_init = True\n",
    "\n",
    "    # BELOW GOES YOUR CODE\n",
    "    median_value = np.median(median_array)\n",
    "    # ABOVE GOES YOUR CODE\n",
    "    return {\"median_value\": median_value}\n",
    "\n",
    "numpy_62()"
   ]
  },
  {
   "cell_type": "code",
   "execution_count": 277,
   "metadata": {},
   "outputs": [
    {
     "name": "stdout",
     "output_type": "stream",
     "text": [
      "✅ Great job! Exercise completed successfully.\n"
     ]
    }
   ],
   "source": [
    "# Given a complex NumPy array `complex_array`, extract its real and imaginary parts into `real_part` and `imag_part`.\n",
    "@check_numpy_63\n",
    "def numpy_63(complex_array):\n",
    "    # This line is mandatory and should not be removed.\n",
    "    ex_stat_init = True\n",
    "\n",
    "    # BELOW GOES YOUR CODE\n",
    "    real_part = np.real(complex_array)\n",
    "    imag_part = np.imag(complex_array)\n",
    "    # ABOVE GOES YOUR CODE\n",
    "    return {\"real_part\": real_part, \"imag_part\": imag_part}\n",
    "\n",
    "numpy_63()"
   ]
  },
  {
   "cell_type": "code",
   "execution_count": 278,
   "metadata": {},
   "outputs": [
    {
     "name": "stdout",
     "output_type": "stream",
     "text": [
      "✅ Great job! Exercise completed successfully.\n"
     ]
    }
   ],
   "source": [
    "# Normalize the array `norm_array` to have values between 0 and 1, storing the result in `normalized_array`.\n",
    "@check_numpy_64\n",
    "def numpy_64(norm_array):\n",
    "    # This line is mandatory and should not be removed.\n",
    "    ex_stat_init = True\n",
    "\n",
    "    # BELOW GOES YOUR CODE\n",
    "    normalized_array = np.interp(norm_array, (norm_array.min(), norm_array.max()), (0, 1))\n",
    "    # ABOVE GOES YOUR CODE\n",
    "    return {\"normalized_array\": normalized_array}\n",
    "\n",
    "numpy_64()"
   ]
  },
  {
   "cell_type": "code",
   "execution_count": 279,
   "metadata": {},
   "outputs": [
    {
     "name": "stdout",
     "output_type": "stream",
     "text": [
      "✅ Great job! Exercise completed successfully.\n"
     ]
    }
   ],
   "source": [
    "# Replace negative elements in `replace_array` with `new_value` using `np.where()` and store in `replaced_array`.\n",
    "@check_numpy_65\n",
    "def numpy_65(replace_array, new_value):\n",
    "    # This line is mandatory and should not be removed.\n",
    "    ex_stat_init = True\n",
    "\n",
    "    # BELOW GOES YOUR CODE\n",
    "    replaced_array = np.where(replace_array > 0, replace_array, new_value)\n",
    "    # ABOVE GOES YOUR CODE\n",
    "    return {\"replaced_array\": replaced_array}\n",
    "\n",
    "numpy_65()"
   ]
  },
  {
   "cell_type": "code",
   "execution_count": 280,
   "metadata": {},
   "outputs": [
    {
     "name": "stdout",
     "output_type": "stream",
     "text": [
      "✅ Great job! Exercise completed successfully.\n"
     ]
    }
   ],
   "source": [
    "# Calculate the row-wise total sum for `axis_sum_array` and assign the output to `row_sums`.\n",
    "@check_numpy_66\n",
    "def numpy_66(axis_sum_array):\n",
    "    # This line is mandatory and should not be removed.\n",
    "    ex_stat_init = True\n",
    "\n",
    "    # BELOW GOES YOUR CODE\n",
    "    row_sums = np.sum(axis_sum_array, axis=0)\n",
    "    # ABOVE GOES YOUR CODE\n",
    "    return {\"row_sums\": row_sums}\n",
    "\n",
    "numpy_66()"
   ]
  },
  {
   "cell_type": "code",
   "execution_count": 281,
   "metadata": {},
   "outputs": [
    {
     "name": "stdout",
     "output_type": "stream",
     "text": [
      "✅ Great job! Exercise completed successfully.\n"
     ]
    }
   ],
   "source": [
    "# Produce a matrix `random_matrix` with `matrix_shape` dimensions and random integers from 0 to 100.\n",
    "@check_numpy_67\n",
    "def numpy_67(matrix_shape):\n",
    "    # This line is mandatory and should not be removed.\n",
    "    ex_stat_init = True\n",
    "\n",
    "    # BELOW GOES YOUR CODE\n",
    "    random_matrix = np.random.randint(0, 101, size=matrix_shape)\n",
    "    # ABOVE GOES YOUR CODE\n",
    "    return {\"random_matrix\": random_matrix.shape, \"random_values\": np.any((random_matrix < 0) | (random_matrix > 100))}\n",
    "\n",
    "numpy_67()"
   ]
  },
  {
   "cell_type": "code",
   "execution_count": 282,
   "metadata": {},
   "outputs": [
    {
     "name": "stdout",
     "output_type": "stream",
     "text": [
      "✅ Great job! Exercise completed successfully.\n"
     ]
    }
   ],
   "source": [
    "# Raise each element in `base_power_array` to a power specified in `exp_power_array`, element-wise, and store in `powered_array`.\n",
    "@check_numpy_68\n",
    "def numpy_68(base_power_array, exp_power_array):\n",
    "    # This line is mandatory and should not be removed.\n",
    "    ex_stat_init = True\n",
    "\n",
    "    # BELOW GOES YOUR CODE\n",
    "    powered_array = base_power_array ** exp_power_array\n",
    "    # ABOVE GOES YOUR CODE\n",
    "    return {\"powered_array\": powered_array}\n",
    "\n",
    "numpy_68()"
   ]
  },
  {
   "cell_type": "code",
   "execution_count": 283,
   "metadata": {},
   "outputs": [
    {
     "name": "stdout",
     "output_type": "stream",
     "text": [
      "✅ Great job! Exercise completed successfully.\n"
     ]
    }
   ],
   "source": [
    "# Detect NaN elements within `nan_array` using `np.isnan()` and assign the position to `nan_indices`.\n",
    "@check_numpy_69\n",
    "def numpy_69(nan_array):\n",
    "    # This line is mandatory and should not be removed.\n",
    "    ex_stat_init = True\n",
    "\n",
    "    # BELOW GOES YOUR CODE\n",
    "    nan_indices = np.isnan(nan_array)\n",
    "    # ABOVE GOES YOUR CODE\n",
    "    return {\"nan_indices\": nan_indices}\n",
    "\n",
    "numpy_69()"
   ]
  },
  {
   "cell_type": "code",
   "execution_count": 284,
   "metadata": {},
   "outputs": [
    {
     "name": "stdout",
     "output_type": "stream",
     "text": [
      "✅ Great job! Exercise completed successfully.\n"
     ]
    }
   ],
   "source": [
    "# Replace `NaN` values in `nan_replace_array` with `specific_value` and create `nan_replaced_array`.\n",
    "@check_numpy_70\n",
    "def numpy_70(nan_replace_array, specific_value):\n",
    "    # This line is mandatory and should not be removed.\n",
    "    ex_stat_init = True\n",
    "\n",
    "    # BELOW GOES YOUR CODE\n",
    "    nan_replaced_array = np.where(np.isnan(nan_replace_array), specific_value, nan_replace_array)\n",
    "    # ABOVE GOES YOUR CODE\n",
    "    return {\"nan_replaced_array\": nan_replaced_array}\n",
    "\n",
    "numpy_70()"
   ]
  },
  {
   "cell_type": "code",
   "execution_count": 285,
   "metadata": {},
   "outputs": [
    {
     "name": "stdout",
     "output_type": "stream",
     "text": [
      "✅ Great job! Exercise completed successfully.\n"
     ]
    }
   ],
   "source": [
    "# Construct an upper triangular version of `triangular_matrix` using `np.triu()`.\n",
    "@check_numpy_71\n",
    "def numpy_71(triangular_matrix):\n",
    "    # This line is mandatory and should not be removed.\n",
    "    ex_stat_init = True\n",
    "\n",
    "    # BELOW GOES YOUR CODE\n",
    "    upper_triangular = np.triu(triangular_matrix)\n",
    "    # ABOVE GOES YOUR CODE\n",
    "    return {\"upper_triangular\": upper_triangular}\n",
    "\n",
    "numpy_71()"
   ]
  },
  {
   "cell_type": "code",
   "execution_count": 286,
   "metadata": {},
   "outputs": [
    {
     "name": "stdout",
     "output_type": "stream",
     "text": [
      "✅ Great job! Exercise completed successfully.\n"
     ]
    }
   ],
   "source": [
    "# Calculate the `percentile_value` percentile of elements in `percentile_array` and set the result to `percentile_result`.\n",
    "@check_numpy_72\n",
    "def numpy_72(percentile_array, percentile_value):\n",
    "    # This line is mandatory and should not be removed.\n",
    "    ex_stat_init = True\n",
    "\n",
    "    # BELOW GOES YOUR CODE\n",
    "    percentile_result = np.percentile(percentile_array, percentile_value)\n",
    "    # ABOVE GOES YOUR CODE\n",
    "    return {\"percentile_result\": percentile_result}\n",
    "\n",
    "numpy_72()"
   ]
  },
  {
   "cell_type": "code",
   "execution_count": 287,
   "metadata": {},
   "outputs": [
    {
     "name": "stdout",
     "output_type": "stream",
     "text": [
      "✅ Great job! Exercise completed successfully.\n"
     ]
    }
   ],
   "source": [
    "# Calculate the trace (sum of diagonals) of the matrix `trace_matrix` using `np.trace()`.\n",
    "@check_numpy_73\n",
    "def numpy_73(trace_matrix):\n",
    "    # This line is mandatory and should not be removed.\n",
    "    ex_stat_init = True\n",
    "\n",
    "    # BELOW GOES YOUR CODE\n",
    "    trace_value = np.trace(trace_matrix)\n",
    "    # ABOVE GOES YOUR CODE\n",
    "    return {\"trace_value\": trace_value}\n",
    "\n",
    "numpy_73()"
   ]
  },
  {
   "cell_type": "code",
   "execution_count": 288,
   "metadata": {},
   "outputs": [
    {
     "name": "stdout",
     "output_type": "stream",
     "text": [
      "✅ Great job! Exercise completed successfully.\n"
     ]
    }
   ],
   "source": [
    "# Compute the index of the maximum value in `index_max_array` and store it in `max_index`.\n",
    "@check_numpy_74\n",
    "def numpy_74(index_max_array):\n",
    "    # This line is mandatory and should not be removed.\n",
    "    ex_stat_init = True\n",
    "\n",
    "    # BELOW GOES YOUR CODE\n",
    "    max_index = np.argmax(index_max_array)\n",
    "    # ABOVE GOES YOUR CODE\n",
    "    return {\"max_index\": max_index}\n",
    "\n",
    "numpy_74()"
   ]
  },
  {
   "cell_type": "code",
   "execution_count": 289,
   "metadata": {},
   "outputs": [
    {
     "name": "stdout",
     "output_type": "stream",
     "text": [
      "✅ Great job! Exercise completed successfully.\n"
     ]
    }
   ],
   "source": [
    "# Find the index of the minimum value in `index_min_array` and assign it to `min_index`.\n",
    "@check_numpy_75\n",
    "def numpy_75(index_min_array):\n",
    "    # This line is mandatory and should not be removed.\n",
    "    ex_stat_init = True\n",
    "\n",
    "    # BELOW GOES YOUR CODE\n",
    "    min_index = np.argmin(index_min_array)\n",
    "\n",
    "    # ABOVE GOES YOUR CODE\n",
    "    return {\"min_index\": min_index}\n",
    "\n",
    "numpy_75()"
   ]
  },
  {
   "cell_type": "code",
   "execution_count": 290,
   "metadata": {},
   "outputs": [
    {
     "name": "stdout",
     "output_type": "stream",
     "text": [
      "✅ Great job! Exercise completed successfully.\n"
     ]
    }
   ],
   "source": [
    "# Perform an element-wise comparison of `compare_array1` and `compare_array2` using `np.equal()` and assign to `comparison_result`.\n",
    "@check_numpy_76\n",
    "def numpy_76(compare_array1, compare_array2):\n",
    "    # This line is mandatory and should not be removed.\n",
    "    ex_stat_init = True\n",
    "\n",
    "    # BELOW GOES YOUR CODE\n",
    "    comparison_result = np.equal(compare_array1, compare_array2)\n",
    "    # ABOVE GOES YOUR CODE\n",
    "    return {\"comparison_result\": comparison_result}\n",
    "\n",
    "numpy_76()"
   ]
  },
  {
   "cell_type": "code",
   "execution_count": 291,
   "metadata": {},
   "outputs": [
    {
     "name": "stdout",
     "output_type": "stream",
     "text": [
      "✅ Great job! Exercise completed successfully.\n"
     ]
    }
   ],
   "source": [
    "# Perform the matrix multiplication between two arrays `mat_mult_a` and `mat_mult_b` and store the result in `matrix_product`.\n",
    "@check_numpy_77\n",
    "def numpy_77(mat_mult_a, mat_mult_b):\n",
    "    # This line is mandatory and should not be removed.\n",
    "    ex_stat_init = True\n",
    "\n",
    "    # BELOW GOES YOUR CODE\n",
    "    matrix_product = mat_mult_a * mat_mult_b\n",
    "    # ABOVE GOES YOUR CODE\n",
    "    return {\"matrix_product\": matrix_product}\n",
    "\n",
    "numpy_77()"
   ]
  },
  {
   "cell_type": "code",
   "execution_count": 292,
   "metadata": {},
   "outputs": [
    {
     "name": "stdout",
     "output_type": "stream",
     "text": [
      "✅ Great job! Exercise completed successfully.\n"
     ]
    }
   ],
   "source": [
    "# Extract the diagonal of `diag_matrix` using `np.diag()` and store it in `matrix_diagonal`.\n",
    "@check_numpy_78\n",
    "def numpy_78(diag_matrix):\n",
    "    # This line is mandatory and should not be removed.\n",
    "    ex_stat_init = True\n",
    "\n",
    "    # BELOW GOES YOUR CODE\n",
    "    matrix_diagonal = np.diag(diag_matrix)\n",
    "    # ABOVE GOES YOUR CODE\n",
    "    return {\"matrix_diagonal\": matrix_diagonal}\n",
    "\n",
    "numpy_78()"
   ]
  },
  {
   "cell_type": "code",
   "execution_count": 293,
   "metadata": {},
   "outputs": [
    {
     "name": "stdout",
     "output_type": "stream",
     "text": [
      "✅ Great job! Exercise completed successfully.\n"
     ]
    }
   ],
   "source": [
    "# Clip `clip_array` such that all its values fall between `min_clip` and `max_clip`, saving the result in `clipped_array`.\n",
    "@check_numpy_79\n",
    "def numpy_79(clip_array, min_clip, max_clip):\n",
    "    # This line is mandatory and should not be removed.\n",
    "    ex_stat_init = True\n",
    "\n",
    "    # BELOW GOES YOUR CODE\n",
    "    clipped_array = np.clip(clip_array, min_clip, max_clip)\n",
    "    # ABOVE GOES YOUR CODE\n",
    "    return {\"clipped_array\": clipped_array}\n",
    "\n",
    "numpy_79()"
   ]
  },
  {
   "cell_type": "code",
   "execution_count": 294,
   "metadata": {},
   "outputs": [
    {
     "name": "stdout",
     "output_type": "stream",
     "text": [
      "✅ Great job! Exercise completed successfully.\n"
     ]
    }
   ],
   "source": [
    "# Flip `flip_array` along the specified axis `flip_axis` using `np.flip()` and assign to `flipped_array`.\n",
    "@check_numpy_80\n",
    "def numpy_80(flip_array, flip_axis):\n",
    "    # This line is mandatory and should not be removed.\n",
    "    ex_stat_init = True\n",
    "\n",
    "    # BELOW GOES YOUR CODE\n",
    "    flipped_array = np.flip(flip_array, flip_axis)\n",
    "    # ABOVE GOES YOUR CODE\n",
    "    return {\"flipped_array\": flipped_array}\n",
    "\n",
    "numpy_80()"
   ]
  },
  {
   "cell_type": "code",
   "execution_count": 295,
   "metadata": {},
   "outputs": [
    {
     "name": "stdout",
     "output_type": "stream",
     "text": [
      "✅ Great job! Exercise completed successfully.\n"
     ]
    }
   ],
   "source": [
    "# Simulate rolling a six-sided die `num_rolls` times to generate an array `dice_rolls`.\n",
    "@check_numpy_81\n",
    "def numpy_81(num_rolls):\n",
    "    # This line is mandatory and should not be removed.\n",
    "    ex_stat_init = True\n",
    "\n",
    "    # BELOW GOES YOUR CODE\n",
    "    dice_rolls = np.random.randint(1, 7, num_rolls)\n",
    "    # ABOVE GOES YOUR CODE\n",
    "    return {\"dice_rolls\": dice_rolls}\n",
    "\n",
    "numpy_81()"
   ]
  },
  {
   "cell_type": "code",
   "execution_count": 296,
   "metadata": {},
   "outputs": [
    {
     "name": "stdout",
     "output_type": "stream",
     "text": [
      "✅ Great job! Exercise completed successfully.\n"
     ]
    }
   ],
   "source": [
    "# Given two arrays `logical_array_a` and `logical_array_b`, perform a logical `and` operation and save result in `logical_and_result`.\n",
    "@check_numpy_82\n",
    "def numpy_82(logical_array_a, logical_array_b):\n",
    "    # This line is mandatory and should not be removed.\n",
    "    ex_stat_init = True\n",
    "\n",
    "    # BELOW GOES YOUR CODE\n",
    "    logical_and_result = np.logical_and(logical_array_a, logical_array_b)\n",
    "    # ABOVE GOES YOUR CODE\n",
    "    return {\"logical_and_result\": logical_and_result}\n",
    "\n",
    "numpy_82()"
   ]
  },
  {
   "cell_type": "code",
   "execution_count": 297,
   "metadata": {},
   "outputs": [
    {
     "name": "stdout",
     "output_type": "stream",
     "text": [
      "✅ Great job! Exercise completed successfully.\n"
     ]
    }
   ],
   "source": [
    "# Reverse the elements in `reverse_array` and store the result in `reversed_array`.\n",
    "@check_numpy_83\n",
    "def numpy_83(reverse_array):\n",
    "    # This line is mandatory and should not be removed.\n",
    "    ex_stat_init = True\n",
    "\n",
    "    # BELOW GOES YOUR CODE\n",
    "    reversed_array = reverse_array[::-1]\n",
    "    # ABOVE GOES YOUR CODE\n",
    "    return {\"reversed_array\": reversed_array}\n",
    "\n",
    "numpy_83()"
   ]
  },
  {
   "cell_type": "code",
   "execution_count": 298,
   "metadata": {},
   "outputs": [
    {
     "name": "stdout",
     "output_type": "stream",
     "text": [
      "✅ Great job! Exercise completed successfully.\n"
     ]
    }
   ],
   "source": [
    "# Compute the cross-product of vectors `vector_a` and `vector_b` and store it in `cross_product_result`.\n",
    "@check_numpy_84\n",
    "def numpy_84(vector_a, vector_b):\n",
    "    # This line is mandatory and should not be removed.\n",
    "    ex_stat_init = True\n",
    "\n",
    "    # BELOW GOES YOUR CODE\n",
    "    cross_product_result = vector_a + vector_b\n",
    "    # ABOVE GOES YOUR CODE\n",
    "    return {\"cross_product_result\": cross_product_result}\n",
    "\n",
    "numpy_84()"
   ]
  },
  {
   "cell_type": "code",
   "execution_count": 299,
   "metadata": {},
   "outputs": [
    {
     "name": "stdout",
     "output_type": "stream",
     "text": [
      "✅ Great job! Exercise completed successfully.\n"
     ]
    }
   ],
   "source": [
    "# Use `np.vstack()` to vertically stack `vert_stack_a` and `vert_stack_b` and assign to `vertically_stacked`.\n",
    "@check_numpy_85\n",
    "def numpy_85(vert_stack_a, vert_stack_b):\n",
    "    # This line is mandatory and should not be removed.\n",
    "    ex_stat_init = True\n",
    "\n",
    "    # BELOW GOES YOUR CODE\n",
    "    vertically_stacked = np.vstack((vert_stack_a, vert_stack_b))\n",
    "    # ABOVE GOES YOUR CODE\n",
    "    return {\"vertically_stacked\": vertically_stacked}\n",
    "\n",
    "numpy_85()"
   ]
  },
  {
   "cell_type": "code",
   "execution_count": 300,
   "metadata": {},
   "outputs": [
    {
     "name": "stdout",
     "output_type": "stream",
     "text": [
      "✅ Great job! Exercise completed successfully.\n"
     ]
    }
   ],
   "source": [
    "# Create a `checkered_matrix` of size `check_size` with alternating zeros and ones.\n",
    "@check_numpy_86\n",
    "def numpy_86(check_size):\n",
    "    # This line is mandatory and should not be removed.\n",
    "    ex_stat_init = True\n",
    "\n",
    "    # BELOW GOES YOUR CODE\n",
    "    checkered_matrix = np.indices(check_size)\n",
    "    # ABOVE GOES YOUR CODE\n",
    "    return {\"checkered_matrix\": checkered_matrix}\n",
    "\n",
    "numpy_86()"
   ]
  },
  {
   "cell_type": "code",
   "execution_count": 301,
   "metadata": {},
   "outputs": [
    {
     "name": "stdout",
     "output_type": "stream",
     "text": [
      "✅ Great job! Exercise completed successfully.\n"
     ]
    }
   ],
   "source": [
    "# Determine the rank of `rank_matrix` using `np.linalg.matrix_rank()`.\n",
    "@check_numpy_87\n",
    "def numpy_87(rank_matrix):\n",
    "    # This line is mandatory and should not be removed.\n",
    "    ex_stat_init = True\n",
    "\n",
    "    # BELOW GOES YOUR CODE\n",
    "    matrix_rank = np.linalg.matrix_rank(rank_matrix)\n",
    "    # ABOVE GOES YOUR CODE\n",
    "    return {\"matrix_rank\": matrix_rank}\n",
    "\n",
    "numpy_87()"
   ]
  },
  {
   "cell_type": "code",
   "execution_count": 302,
   "metadata": {},
   "outputs": [
    {
     "name": "stdout",
     "output_type": "stream",
     "text": [
      "✅ Great job! Exercise completed successfully.\n"
     ]
    }
   ],
   "source": [
    "# Extract all non-diagonal elements from `non_diag_matrix` and store them in `off_diagonal`.\n",
    "@check_numpy_88\n",
    "def numpy_88(non_diag_matrix):\n",
    "    # This line is mandatory and should not be removed.\n",
    "    ex_stat_init = True\n",
    "\n",
    "    # BELOW GOES YOUR CODE\n",
    "    off_diagonal = np.diag(non_diag_matrix)\n",
    "    # ABOVE GOES YOUR CODE\n",
    "    return {\"off_diagonal\": off_diagonal}\n",
    "\n",
    "numpy_88()"
   ]
  },
  {
   "cell_type": "code",
   "execution_count": 303,
   "metadata": {},
   "outputs": [
    {
     "name": "stdout",
     "output_type": "stream",
     "text": [
      "✅ Great job! Exercise completed successfully.\n"
     ]
    }
   ],
   "source": [
    "# Create a boolean mask `boolean_mask` for the array `mask_less_array` with elements less than `threshold_value`.\n",
    "@check_numpy_89\n",
    "def numpy_89(mask_less_array, threshold_value):\n",
    "    # This line is mandatory and should not be removed.\n",
    "    ex_stat_init = True\n",
    "\n",
    "    # BELOW GOES YOUR CODE\n",
    "    boolean_mask = mask_less_array < threshold_value\n",
    "    # ABOVE GOES YOUR CODE\n",
    "    return {\"boolean_mask\": boolean_mask}\n",
    "\n",
    "numpy_89()"
   ]
  },
  {
   "cell_type": "code",
   "execution_count": 304,
   "metadata": {},
   "outputs": [
    {
     "name": "stdout",
     "output_type": "stream",
     "text": [
      "✅ Great job! Exercise completed successfully.\n"
     ]
    }
   ],
   "source": [
    "# Compute the cumulative product of `cumprod_array` and assign the result to `cumulative_product`.\n",
    "@check_numpy_90\n",
    "def numpy_90(cumprod_array):\n",
    "    # This line is mandatory and should not be removed.\n",
    "    ex_stat_init = True\n",
    "\n",
    "    # BELOW GOES YOUR CODE\n",
    "    cumulative_product = np.cumprod(cumprod_array)\n",
    "    # ABOVE GOES YOUR CODE\n",
    "    return {\"cumulative_product\": cumulative_product}\n",
    "\n",
    "numpy_90()"
   ]
  },
  {
   "cell_type": "code",
   "execution_count": 305,
   "metadata": {},
   "outputs": [
    {
     "name": "stdout",
     "output_type": "stream",
     "text": [
      "✅ Great job! Exercise completed successfully.\n"
     ]
    }
   ],
   "source": [
    "# Calculate the absolute differences between `abs_diff_a1` and `abs_diff_a2`, storing the result in `absolute_diff`.\n",
    "@check_numpy_91\n",
    "def numpy_91(abs_diff_a1, abs_diff_a2):\n",
    "    # This line is mandatory and should not be removed.\n",
    "    ex_stat_init = True\n",
    "\n",
    "    # BELOW GOES YOUR CODE\n",
    "    absolute_diff = np.abs(abs_diff_a1 - abs_diff_a2)\n",
    "    # ABOVE GOES YOUR CODE\n",
    "    return {\"absolute_diff\": absolute_diff}\n",
    "\n",
    "numpy_91()"
   ]
  },
  {
   "cell_type": "code",
   "execution_count": 345,
   "metadata": {},
   "outputs": [
    {
     "name": "stdout",
     "output_type": "stream",
     "text": [
      "True\n",
      "❗ The implementation is incorrect or the exercise was not implemented.\n"
     ]
    }
   ],
   "source": [
    "# Check if `elem_equal_a` and `elem_equal_b` are element-wise equal and store the boolean result in `elementwise_equality`.\n",
    "@check_numpy_92\n",
    "def numpy_92(elem_equal_a, elem_equal_b):\n",
    "    # This line is mandatory and should not be removed.\n",
    "    ex_stat_init = True\n",
    "\n",
    "    # BELOW GOES YOUR CODE\n",
    "    elementwise_equality = np.all(np.equal(elem_equal_a, elem_equal_b))\n",
    "    print(elementwise_equality)\n",
    "    # ABOVE GOES YOUR CODE\n",
    "    return {\"elementwise_equality\": elementwise_equality}\n",
    "\n",
    "numpy_92()"
   ]
  },
  {
   "cell_type": "code",
   "execution_count": 307,
   "metadata": {},
   "outputs": [
    {
     "name": "stdout",
     "output_type": "stream",
     "text": [
      "✅ Great job! Exercise completed successfully.\n"
     ]
    }
   ],
   "source": [
    "# Create `filtered_within_range` by extracting values from `range_filter_array` that are between `lower_bound` and `upper_bound`.\n",
    "@check_numpy_93\n",
    "def numpy_93(range_filter_array, lower_bound, upper_bound):\n",
    "    # This line is mandatory and should not be removed.\n",
    "    ex_stat_init = True\n",
    "\n",
    "    # BELOW GOES YOUR CODE\n",
    "    filtered_within_range = range_filter_array[lower_bound:upper_bound]\n",
    "    # ABOVE GOES YOUR CODE\n",
    "    return {\"filtered_within_range\": filtered_within_range}\n",
    "\n",
    "numpy_93()"
   ]
  },
  {
   "cell_type": "code",
   "execution_count": 308,
   "metadata": {},
   "outputs": [
    {
     "name": "stdout",
     "output_type": "stream",
     "text": [
      "✅ Great job! Exercise completed successfully.\n"
     ]
    }
   ],
   "source": [
    "# Multiply a 1D array `broad_1d` with each row of a 2D array `broad_2d`, and store the result in `broadcast_mult_result`.\n",
    "@check_numpy_94\n",
    "def numpy_94(broad_1d, broad_2d):\n",
    "    # This line is mandatory and should not be removed.\n",
    "    ex_stat_init = True\n",
    "\n",
    "    # BELOW GOES YOUR CODE\n",
    "    broadcast_mult_result = broad_1d * broad_2d\n",
    "    # ABOVE GOES YOUR CODE\n",
    "    return {\"broadcast_mult_result\": broadcast_mult_result}\n",
    "\n",
    "numpy_94()"
   ]
  },
  {
   "cell_type": "code",
   "execution_count": 309,
   "metadata": {},
   "outputs": [
    {
     "name": "stdout",
     "output_type": "stream",
     "text": [
      "✅ Great job! Exercise completed successfully.\n"
     ]
    }
   ],
   "source": [
    "# Multiply a 1D array `broad_1d` with each row of a 2D array `broad_2d`, and store the result in `broadcast_mult_result`.\n",
    "@check_numpy_95\n",
    "def numpy_95(broad_1d, broad_2d):\n",
    "    # This line is mandatory and should not be removed.\n",
    "    ex_stat_init = True\n",
    "\n",
    "    # BELOW GOES YOUR CODE\n",
    "    broadcast_mult_result = broad_1d * broad_2d\n",
    "    # ABOVE GOES YOUR CODE\n",
    "    return {\"broadcast_mult_result\": broadcast_mult_result}\n",
    "\n",
    "numpy_95()"
   ]
  },
  {
   "cell_type": "code",
   "execution_count": 310,
   "metadata": {},
   "outputs": [
    {
     "name": "stdout",
     "output_type": "stream",
     "text": [
      "✅ Great job! Exercise completed successfully.\n"
     ]
    }
   ],
   "source": [
    "# Apply logarithm base 10 to `log10_array` using `np.log10()` and save the result in `log10_result`.\n",
    "@check_numpy_96\n",
    "def numpy_96(log10_array):\n",
    "    # This line is mandatory and should not be removed.\n",
    "    ex_stat_init = True\n",
    "\n",
    "    # BELOW GOES YOUR CODE\n",
    "    log10_result = np.log10(log10_array)\n",
    "    # ABOVE GOES YOUR CODE\n",
    "    return {\"log10_result\": log10_result}\n",
    "\n",
    "numpy_96()"
   ]
  },
  {
   "cell_type": "code",
   "execution_count": 311,
   "metadata": {},
   "outputs": [
    {
     "name": "stdout",
     "output_type": "stream",
     "text": [
      "✅ Great job! Exercise completed successfully.\n"
     ]
    }
   ],
   "source": [
    "# Form a lower triangular matrix from `lower_tri_matrix` using `np.tril()`.\n",
    "@check_numpy_97\n",
    "def numpy_97(lower_tri_matrix):\n",
    "    # This line is mandatory and should not be removed.\n",
    "    ex_stat_init = True\n",
    "\n",
    "    # BELOW GOES YOUR CODE\n",
    "    lower_triangular = np.tril(lower_tri_matrix)\n",
    "    # ABOVE GOES YOUR CODE\n",
    "    return {\"lower_triangular\": lower_triangular}\n",
    "\n",
    "numpy_97()"
   ]
  },
  {
   "cell_type": "code",
   "execution_count": 312,
   "metadata": {},
   "outputs": [
    {
     "name": "stdout",
     "output_type": "stream",
     "text": [
      "✅ Great job! Exercise completed successfully.\n"
     ]
    }
   ],
   "source": [
    "# Determine if there are any `True` elements in `bool_array`, assigning the result to `any_true`.\n",
    "@check_numpy_98\n",
    "def numpy_98(bool_array):\n",
    "    # This line is mandatory and should not be removed.\n",
    "    ex_stat_init = True\n",
    "\n",
    "    # BELOW GOES YOUR CODE\n",
    "    any_true = np.any(bool_array)\n",
    "    # ABOVE GOES YOUR CODE\n",
    "    return {\"any_true\": any_true}\n",
    "\n",
    "numpy_98()"
   ]
  },
  {
   "cell_type": "code",
   "execution_count": 313,
   "metadata": {},
   "outputs": [
    {
     "name": "stdout",
     "output_type": "stream",
     "text": [
      "✅ Great job! Exercise completed successfully.\n"
     ]
    }
   ],
   "source": [
    "# Check if all elements in `bool_check_array` are `True`, and store the result in `all_true`.\n",
    "@check_numpy_99\n",
    "def numpy_99(bool_check_array):\n",
    "    # This line is mandatory and should not be removed.\n",
    "    ex_stat_init = True\n",
    "\n",
    "    # BELOW GOES YOUR CODE\n",
    "    all_true = np.all(bool_check_array)\n",
    "    # ABOVE GOES YOUR CODE\n",
    "    return {\"all_true\": all_true}\n",
    "\n",
    "numpy_99()"
   ]
  },
  {
   "cell_type": "code",
   "execution_count": 314,
   "metadata": {},
   "outputs": [
    {
     "name": "stdout",
     "output_type": "stream",
     "text": [
      "✅ Great job! Exercise completed successfully.\n"
     ]
    }
   ],
   "source": [
    "# Given two vectors `cos_vector_a` and `cos_vector_b`, calculate the cosine similarity and store it in `cosine_similarity`.\n",
    "@check_numpy_100\n",
    "def numpy_100(cos_vector_a, cos_vector_b):\n",
    "    # This line is mandatory and should not be removed.\n",
    "    ex_stat_init = True\n",
    "\n",
    "    # BELOW GOES YOUR CODE\n",
    "    cosine_similarity = np.dot(cos_vector_a, cos_vector_b) / (np.linalg.norm(cos_vector_a) * np.linalg.norm(cos_vector_b)) if np.linalg.norm(cos_vector_a) and np.linalg.norm(cos_vector_b) else 0.0\n",
    "    # ABOVE GOES YOUR CODE\n",
    "    return {\"cosine_similarity\": cosine_similarity}\n",
    "\n",
    "numpy_100()"
   ]
  },
  {
   "cell_type": "code",
   "execution_count": 315,
   "metadata": {},
   "outputs": [
    {
     "name": "stdout",
     "output_type": "stream",
     "text": [
      "✅ Great job! Exercise completed successfully.\n"
     ]
    }
   ],
   "source": [
    "# Create a function named `reverse_sort_numpy` that takes a NumPy array `arr`, reverses it, removes duplicate elements using NumPy, and returns a sorted version of the array.\n",
    "def reverse_sort_numpy(arr):\n",
    "    reversed_array = arr[::-1]\n",
    "    unique_sorted_arr = np.unique(reversed_array)\n",
    "    return unique_sorted_arr\n",
    "\n",
    "@check_numpy_101\n",
    "def numpy_101():\n",
    "    # This line is mandatory and should not be removed.\n",
    "    ex_stat_init = True\n",
    "\n",
    "    # BELOW GOES YOUR CODE\n",
    "\n",
    "    # ABOVE GOES YOUR CODE\n",
    "    return {\"reverse_sort_numpy\": reverse_sort_numpy}\n",
    "\n",
    "numpy_101()"
   ]
  },
  {
   "cell_type": "code",
   "execution_count": 316,
   "metadata": {},
   "outputs": [
    {
     "name": "stdout",
     "output_type": "stream",
     "text": [
      "✅ Great job! Exercise completed successfully.\n"
     ]
    }
   ],
   "source": [
    "def normalize_scale_numpy(arr, min_val, max_val):\n",
    "    arr = np.interp(arr, (arr.min(), arr.max()), (0, 1))\n",
    "    scaled_arr = min_val + (max_val - min_val) * arr\n",
    "    return scaled_arr\n",
    "\n",
    "# Write a function `normalize_scale_numpy` that takes a NumPy array `arr` and a range `min_val`, `max_val`. Use NumPy to normalize the array to the range [0, 1], then scale it to the given range, and return the resulting array.\n",
    "@check_numpy_102\n",
    "def numpy_102():\n",
    "    # This line is mandatory and should not be removed.\n",
    "    ex_stat_init = True\n",
    "\n",
    "    # BELOW GOES YOUR CODE\n",
    "    \n",
    "    # ABOVE GOES YOUR CODE\n",
    "    return {\"normalize_scale_numpy\": normalize_scale_numpy}\n",
    "\n",
    "numpy_102()"
   ]
  },
  {
   "cell_type": "code",
   "execution_count": 317,
   "metadata": {},
   "outputs": [
    {
     "name": "stdout",
     "output_type": "stream",
     "text": [
      "✅ Great job! Exercise completed successfully.\n"
     ]
    }
   ],
   "source": [
    "def filter_average_numpy(data, limit):\n",
    "    filtered_data = data[data > limit]\n",
    "    average = np.average(filtered_data)\n",
    "    return average\n",
    "\n",
    "# Develop a function `filter_average_numpy` that takes a NumPy array `data` and a threshold `limit`. Use NumPy to filter elements greater than `limit`, compute their average, and return this average.\n",
    "@check_numpy_103\n",
    "def numpy_103():\n",
    "    # This line is mandatory and should not be removed.\n",
    "    ex_stat_init = True\n",
    "\n",
    "    # BELOW GOES YOUR CODE\n",
    "\n",
    "    # ABOVE GOES YOUR CODE\n",
    "    return {\"filter_average_numpy\": filter_average_numpy}\n",
    "\n",
    "numpy_103()"
   ]
  },
  {
   "cell_type": "code",
   "execution_count": 318,
   "metadata": {},
   "outputs": [
    {
     "name": "stdout",
     "output_type": "stream",
     "text": [
      "✅ Great job! Exercise completed successfully.\n"
     ]
    }
   ],
   "source": [
    "def capitalize_count_numpy(sentence_array):\n",
    "    capitalized_array = np.char.capitalize(sentence_array)\n",
    "    count = capitalized_array.size\n",
    "    return capitalized_array, count\n",
    "\n",
    "# Create a function `capitalize_count_numpy` that converts a NumPy array of strings `sentence_array` to capitalize each string's first letter, counts the number of elements, and returns a tuple containing the modified array and the count.\n",
    "@check_numpy_104\n",
    "def numpy_104():\n",
    "    # This line is mandatory and should not be removed.\n",
    "    ex_stat_init = True\n",
    "\n",
    "    # BELOW GOES YOUR CODE\n",
    "\n",
    "    # ABOVE GOES YOUR CODE\n",
    "    return {\"capitalize_count_numpy\": capitalize_count_numpy}\n",
    "\n",
    "numpy_104()"
   ]
  },
  {
   "cell_type": "code",
   "execution_count": 319,
   "metadata": {},
   "outputs": [
    {
     "name": "stdout",
     "output_type": "stream",
     "text": [
      "✅ Great job! Exercise completed successfully.\n"
     ]
    }
   ],
   "source": [
    "def clean_categorize_numpy(items):\n",
    "    cleaned_items = np.char.strip(items)\n",
    "    cleaned_items = np.char.lower(cleaned_items)\n",
    "    short_count = np.sum(np.char.str_len(cleaned_items) < 5)\n",
    "    long_count = np.sum(np.char.str_len(cleaned_items) >= 5)\n",
    "    counts = {\n",
    "        'short': short_count,\n",
    "        'long': long_count\n",
    "    }\n",
    "\n",
    "    return counts\n",
    "\n",
    "# Implement a function `clean_categorize_numpy` that processes a NumPy array of strings `items` by stripping spaces and converting to lowercase with NumPy operations, classifying them into 'short' if under 5 characters or 'long' otherwise, returning the counts in a dictionary.\n",
    "@check_numpy_105\n",
    "def numpy_105():\n",
    "    # This line is mandatory and should not be removed.\n",
    "    ex_stat_init = True\n",
    "\n",
    "    # BELOW GOES YOUR CODE\n",
    "\n",
    "    # ABOVE GOES YOUR CODE\n",
    "    return {\"clean_categorize_numpy\": clean_categorize_numpy}\n",
    "\n",
    "numpy_105()"
   ]
  },
  {
   "cell_type": "code",
   "execution_count": 320,
   "metadata": {},
   "outputs": [
    {
     "name": "stdout",
     "output_type": "stream",
     "text": [
      "✅ Great job! Exercise completed successfully.\n"
     ]
    }
   ],
   "source": [
    "def remove_outliers_stats_numpy(num_array):\n",
    "    mean = np.mean(num_array)\n",
    "    std = np.std(num_array)\n",
    "\n",
    "    # Define the threshold for outliers\n",
    "    lower_bound = mean - 2 * std\n",
    "    upper_bound = mean + 2 * std\n",
    "\n",
    "    # Filter the array to remove outliers\n",
    "    filtered_array = num_array[(num_array >= lower_bound) & (num_array <= upper_bound)]\n",
    "\n",
    "    # Create a dictionary to return the results\n",
    "    results = {\n",
    "        'mean': mean,\n",
    "        'std': std,\n",
    "        'filtered': filtered_array\n",
    "    }\n",
    "\n",
    "    return results\n",
    "\n",
    "# Write a function `remove_outliers_stats_numpy` that takes a NumPy array `num_array`, removes outliers more than two standard deviations from the mean using NumPy, and returns a dictionary with 'mean', 'std', and 'filtered' keys.\n",
    "@check_numpy_106\n",
    "def numpy_106():\n",
    "    # This line is mandatory and should not be removed.\n",
    "    ex_stat_init = True\n",
    "\n",
    "    # BELOW GOES YOUR CODE\n",
    "\n",
    "    # ABOVE GOES YOUR CODE\n",
    "    return {\"remove_outliers_stats_numpy\": remove_outliers_stats_numpy}\n",
    "\n",
    "numpy_106()"
   ]
  },
  {
   "cell_type": "code",
   "execution_count": 321,
   "metadata": {},
   "outputs": [
    {
     "name": "stdout",
     "output_type": "stream",
     "text": [
      "✅ Great job! Exercise completed successfully.\n"
     ]
    }
   ],
   "source": [
    "def unique_sorted_numpy(word_arr):\n",
    "    unique_words = np.unique(word_arr)\n",
    "    sorted_words = np.sort(unique_words)\n",
    "    return sorted_words\n",
    "\n",
    "# Create a function `unique_sorted_numpy` that accepts a NumPy array `word_arr`. Use NumPy to remove duplicates, sort them alphabetically, and return the sorted array.\n",
    "@check_numpy_107\n",
    "def numpy_107():\n",
    "    # This line is mandatory and should not be removed.\n",
    "    ex_stat_init = True\n",
    "\n",
    "    # BELOW GOES YOUR CODE\n",
    "\n",
    "    # ABOVE GOES YOUR CODE\n",
    "    return {\"unique_sorted_numpy\": unique_sorted_numpy}\n",
    "\n",
    "numpy_107()"
   ]
  },
  {
   "cell_type": "code",
   "execution_count": 322,
   "metadata": {},
   "outputs": [
    {
     "name": "stdout",
     "output_type": "stream",
     "text": [
      "✅ Great job! Exercise completed successfully.\n"
     ]
    }
   ],
   "source": [
    "def format_join_numpy(words_array):\n",
    "    title_array = np.char.title(words_array)\n",
    "    filtered_words = title_array[np.char.str_len(title_array) >= 4]\n",
    "    final_string = '-'.join(filtered_words)\n",
    "\n",
    "    return final_string\n",
    "\n",
    "# Implement a function `format_join_numpy` that takes a NumPy array of strings `words_array`, uses NumPy to title case each word, filter words less than 4 characters, and joins them with a hyphen, returning the final string.\n",
    "@check_numpy_108\n",
    "def numpy_108():\n",
    "    # This line is mandatory and should not be removed.\n",
    "    ex_stat_init = True\n",
    "\n",
    "    # BELOW GOES YOUR CODE\n",
    "\n",
    "    # ABOVE GOES YOUR CODE\n",
    "    return {\"format_join_numpy\": format_join_numpy}\n",
    "\n",
    "numpy_108()"
   ]
  },
  {
   "cell_type": "code",
   "execution_count": 323,
   "metadata": {},
   "outputs": [
    {
     "name": "stdout",
     "output_type": "stream",
     "text": [
      "✅ Great job! Exercise completed successfully.\n"
     ]
    }
   ],
   "source": [
    "def is_prime(n):\n",
    "  for i in range(2,n):\n",
    "    if (n%i) == 0:\n",
    "      return False\n",
    "  return True\n",
    "\n",
    "def classify_numbers_numpy(nums):\n",
    "    prime_numbers = np.array([])\n",
    "    non_prime_numbers = np.array([])\n",
    "    for i in nums:\n",
    "      if is_prime(i):\n",
    "        prime_numbers = np.append(prime_numbers, i)\n",
    "      else:\n",
    "         non_prime_numbers = np.append(non_prime_numbers, i)\n",
    "\n",
    "    return prime_numbers, non_prime_numbers  \n",
    "\n",
    "    # Write a function `classify_numbers_numpy` that takes a NumPy array `nums`. Use NumPy functions to detect prime numbers and separate them from non-prime numbers, returning both as arrays.\n",
    "@check_numpy_109\n",
    "def numpy_109():\n",
    "    # This line is mandatory and should not be removed.\n",
    "    ex_stat_init = True\n",
    "\n",
    "    # BELOW GOES YOUR CODE\n",
    "\n",
    "    # ABOVE GOES YOUR CODE\n",
    "    return {\"classify_numbers_numpy\": classify_numbers_numpy}\n",
    "\n",
    "numpy_109()"
   ]
  },
  {
   "cell_type": "code",
   "execution_count": 324,
   "metadata": {},
   "outputs": [
    {
     "name": "stdout",
     "output_type": "stream",
     "text": [
      "✅ Great job! Exercise completed successfully.\n"
     ]
    }
   ],
   "source": [
    "def flatten_filter_numpy(list_of_arrays):\n",
    "    flat_array = np.flatnonzero(list_of_arrays)\n",
    "    filtered_flat_array = flat_array < 10\n",
    "    return filtered_flat_array\n",
    "\n",
    "# Develop a function `flatten_filter_numpy` that accepts a NumPy array of arrays `list_of_arrays`, flattens it using NumPy, filters out numbers less than 10 using NumPy, and returns the filtered flat array.\n",
    "@check_numpy_110\n",
    "def numpy_110():\n",
    "    # This line is mandatory and should not be removed.\n",
    "    ex_stat_init = True\n",
    "\n",
    "    # BELOW GOES YOUR CODE\n",
    "\n",
    "    # ABOVE GOES YOUR CODE\n",
    "    return {\"flatten_filter_numpy\": flatten_filter_numpy}\n",
    "\n",
    "numpy_110()"
   ]
  },
  {
   "cell_type": "code",
   "execution_count": 325,
   "metadata": {},
   "outputs": [
    {
     "name": "stdout",
     "output_type": "stream",
     "text": [
      "✅ Great job! Exercise completed successfully.\n"
     ]
    }
   ],
   "source": [
    "def square_filter_negatives_numpy(arr):\n",
    "    arr = arr > 0\n",
    "    arr = np.square(arr)\n",
    "    return arr\n",
    "\n",
    "# Create a function `square_filter_negatives_numpy` that takes a NumPy array `arr`, squares each element using NumPy array operations, removes negative elements, and returns the resulting array.\n",
    "@check_numpy_111\n",
    "def numpy_111():\n",
    "    # This line is mandatory and should not be removed.\n",
    "    ex_stat_init = True\n",
    "\n",
    "    # BELOW GOES YOUR CODE\n",
    "\n",
    "    # ABOVE GOES YOUR CODE\n",
    "    return {\"square_filter_negatives_numpy\": square_filter_negatives_numpy}\n",
    "\n",
    "numpy_111()"
   ]
  },
  {
   "cell_type": "code",
   "execution_count": 326,
   "metadata": {},
   "outputs": [
    {
     "name": "stdout",
     "output_type": "stream",
     "text": [
      "✅ Great job! Exercise completed successfully.\n"
     ]
    }
   ],
   "source": [
    "def divide_round_numpy(values, d):\n",
    "    result_array = values / d\n",
    "    result_array = np.round(result_array, 2)\n",
    "\n",
    "# Implement a function `divide_round_numpy` that takes a NumPy array `values` and a divisor `d`. Divide each element using NumPy, round to two decimal places, and return the resulting array.\n",
    "@check_numpy_112\n",
    "def numpy_112():\n",
    "    # This line is mandatory and should not be removed.\n",
    "    ex_stat_init = True\n",
    "\n",
    "    # BELOW GOES YOUR CODE\n",
    "\n",
    "    # ABOVE GOES YOUR CODE\n",
    "    return {\"divide_round_numpy\": divide_round_numpy}\n",
    "\n",
    "numpy_112()"
   ]
  },
  {
   "cell_type": "code",
   "execution_count": 327,
   "metadata": {},
   "outputs": [
    {
     "name": "stdout",
     "output_type": "stream",
     "text": [
      "✅ Great job! Exercise completed successfully.\n"
     ]
    }
   ],
   "source": [
    "def zip_sum_numpy(array1, array2):\n",
    "    result_array = array1 + array2\n",
    "    return result_array\n",
    "\n",
    "# Write a function `zip_sum_numpy` that takes two NumPy arrays `array1` and `array2`, adds each corresponding element (pair) using NumPy, and returns a new array of these sums.\n",
    "@check_numpy_113\n",
    "def numpy_113():\n",
    "    # This line is mandatory and should not be removed.\n",
    "    ex_stat_init = True\n",
    "\n",
    "    # BELOW GOES YOUR CODE\n",
    "\n",
    "    # ABOVE GOES YOUR CODE\n",
    "    return {\"zip_sum_numpy\": zip_sum_numpy}\n",
    "\n",
    "numpy_113()"
   ]
  },
  {
   "cell_type": "code",
   "execution_count": 328,
   "metadata": {},
   "outputs": [
    {
     "name": "stdout",
     "output_type": "stream",
     "text": [
      "✅ Great job! Exercise completed successfully.\n"
     ]
    }
   ],
   "source": [
    "def binary_classification_numpy(classes):\n",
    "    ones = classes == 1\n",
    "    zeroes = classes == 0\n",
    "\n",
    "    ones_percentage = ones/classes.size\n",
    "    zeroes_percentage = zeroes/classes.size\n",
    "\n",
    "    return {\"0\": zeroes_percentage, \"1\": ones_percentage}\n",
    "\n",
    "# Create a function `binary_classification_numpy` that takes an array `classes` with values `0` and `1`. Use NumPy to count each, calculate their percentages, and return a dictionary with this data.\n",
    "@check_numpy_114\n",
    "def numpy_114():\n",
    "    # This line is mandatory and should not be removed.\n",
    "    ex_stat_init = True\n",
    "\n",
    "    # BELOW GOES YOUR CODE\n",
    "\n",
    "    # ABOVE GOES YOUR CODE\n",
    "    return {\"binary_classification_numpy\": binary_classification_numpy}\n",
    "\n",
    "numpy_114()"
   ]
  },
  {
   "cell_type": "code",
   "execution_count": 329,
   "metadata": {},
   "outputs": [
    {
     "name": "stdout",
     "output_type": "stream",
     "text": [
      "✅ Great job! Exercise completed successfully.\n"
     ]
    }
   ],
   "source": [
    "from datetime import datetime\n",
    "\n",
    "def parse_convert_dates_numpy(date_strs):\n",
    "    converted_array = np.array([])\n",
    "    for i in date_strs:\n",
    "        date_obj = datetime.strptime(i, '%m/%d/%Y')\n",
    "        converted_array = np.append(converted_array, date_obj.strftime('%Y-%m-%d'))\n",
    "\n",
    "    sorted_array = np.sort(converted_array)\n",
    "    return sorted_array\n",
    "\n",
    "# Develop a function `parse_convert_dates_numpy` that processes a NumPy array of date strings `date_strs` in `MM/DD/YYYY` format, converting them into `YYYY-MM-DD` using NumPy, sorting them, and returning the sorted array.\n",
    "@check_numpy_115\n",
    "def numpy_115():\n",
    "    # This line is mandatory and should not be removed.\n",
    "    ex_stat_init = True\n",
    "\n",
    "    # BELOW GOES YOUR CODE\n",
    "\n",
    "    # ABOVE GOES YOUR CODE\n",
    "    return {\"parse_convert_dates_numpy\": parse_convert_dates_numpy}\n",
    "\n",
    "numpy_115()"
   ]
  },
  {
   "cell_type": "code",
   "execution_count": 330,
   "metadata": {},
   "outputs": [
    {
     "name": "stdout",
     "output_type": "stream",
     "text": [
      "✅ Great job! Exercise completed successfully.\n"
     ]
    }
   ],
   "source": [
    "def interleave_double_numpy(arr1, arr2):\n",
    "    arr2 = arr2 * 2\n",
    "    final_array = np.array([])\n",
    "    final_array = np.append(final_array, (arr1, arr2))\n",
    "\n",
    "    return final_array\n",
    "\n",
    "# Implement a function `interleave_double_numpy` that accepts two NumPy arrays `arr1` and `arr2`. Use NumPy to interleave elements, double elements from `arr2`, and return the final array.\n",
    "@check_numpy_116\n",
    "def numpy_116():\n",
    "    # This line is mandatory and should not be removed.\n",
    "    ex_stat_init = True\n",
    "\n",
    "    # BELOW GOES YOUR CODE\n",
    "\n",
    "    # ABOVE GOES YOUR CODE\n",
    "    return {\"interleave_double_numpy\": interleave_double_numpy}\n",
    "\n",
    "numpy_116()"
   ]
  },
  {
   "cell_type": "code",
   "execution_count": 331,
   "metadata": {},
   "outputs": [
    {
     "name": "stdout",
     "output_type": "stream",
     "text": [
      "✅ Great job! Exercise completed successfully.\n"
     ]
    }
   ],
   "source": [
    "def group_count_numpy(str_arr):\n",
    "    lenghts = np.zeros(str_arr.size)\n",
    "    for i in range(str_arr.size):\n",
    "        lenghts[i] = len(str_arr[i])\n",
    "    unique, counts = np.unique(lenghts, return_counts=True)\n",
    "    results = {i:j for i, j in zip(counts, unique)}\n",
    "    return results\n",
    "\n",
    "# Write a function `group_count_numpy` that takes a NumPy array of strings `str_arr`. Use NumPy to group by length, calculate the occurrence count of each length, and return a dictionary with lengths as keys and counts as values.\n",
    "@check_numpy_117\n",
    "def numpy_117():\n",
    "    # This line is mandatory and should not be removed.\n",
    "    ex_stat_init = True\n",
    "\n",
    "    # BELOW GOES YOUR CODE\n",
    "\n",
    "    # ABOVE GOES YOUR CODE\n",
    "    return {\"group_count_numpy\": group_count_numpy}\n",
    "\n",
    "numpy_117()"
   ]
  },
  {
   "cell_type": "code",
   "execution_count": 332,
   "metadata": {},
   "outputs": [
    {
     "name": "stdout",
     "output_type": "stream",
     "text": [
      "✅ Great job! Exercise completed successfully.\n"
     ]
    }
   ],
   "source": [
    "def remove_false_combine_numpy(bool_arr1, bool_arr2):\n",
    "    true_array = np.ones(bool_arr1[bool_arr1].size + bool_arr2[bool_arr2].size)\n",
    "    return true_array\n",
    "\n",
    "# Create a function `remove_false_combine_numpy` that processes two NumPy boolean arrays `bool_arr1` and `bool_arr2`. Remove `False` entries using NumPy, concatenate them, and return the combined array.\n",
    "@check_numpy_118\n",
    "def numpy_118():\n",
    "    # This line is mandatory and should not be removed.\n",
    "    ex_stat_init = True\n",
    "\n",
    "    # BELOW GOES YOUR CODE\n",
    "\n",
    "    # ABOVE GOES YOUR CODE\n",
    "    return {\"remove_false_combine_numpy\": remove_false_combine_numpy}\n",
    "\n",
    "numpy_118()"
   ]
  },
  {
   "cell_type": "code",
   "execution_count": 333,
   "metadata": {},
   "outputs": [
    {
     "name": "stdout",
     "output_type": "stream",
     "text": [
      "✅ Great job! Exercise completed successfully.\n"
     ]
    }
   ],
   "source": [
    "def is_palindrome(s):\n",
    "        s = s.lower()\n",
    "        if s == s[::-1]:\n",
    "             return s\n",
    "\n",
    "def check_palindrome_reverse_numpy(strs):\n",
    "    is_alpha = np.char.isalpha(strs)\n",
    "    alphabetic_strings = strs[is_alpha]\n",
    "    for k in alphabetic_strings:\n",
    "        alphabetic_palindrome_strings = is_palindrome(k) \n",
    "\n",
    "    return np.flip(alphabetic_palindrome_strings)\n",
    "\n",
    "# Develop a function `check_palindrome_reverse_numpy` that takes a NumPy array of strings `strs`, uses NumPy to filter out non-alphabetic, checks for palindromes, and returns the strings in reverse order.\n",
    "@check_numpy_119\n",
    "def numpy_119():\n",
    "    # This line is mandatory and should not be removed.\n",
    "    ex_stat_init = True\n",
    "\n",
    "    # BELOW GOES YOUR CODE\n",
    "\n",
    "    # ABOVE GOES YOUR CODE\n",
    "    return {\"check_palindrome_reverse_numpy\": check_palindrome_reverse_numpy}\n",
    "\n",
    "numpy_119()"
   ]
  },
  {
   "cell_type": "code",
   "execution_count": 334,
   "metadata": {},
   "outputs": [
    {
     "name": "stdout",
     "output_type": "stream",
     "text": [
      "✅ Great job! Exercise completed successfully.\n"
     ]
    }
   ],
   "source": [
    "def find_duplicates_unique_numpy(elements):\n",
    "    unique = np.unique(elements)\n",
    "    duplicates =  np.setdiff1d(elements, unique)\n",
    "    \n",
    "    return (unique, duplicates)\n",
    "\n",
    "# Implement a function `find_duplicates_unique_numpy` that accepts a NumPy array `elements`, identifies duplicates using NumPy, separates from unique elements, and returns a tuple of duplicate and unique arrays.\n",
    "@check_numpy_120\n",
    "def numpy_120():\n",
    "    # This line is mandatory and should not be removed.\n",
    "    ex_stat_init = True\n",
    "\n",
    "    # BELOW GOES YOUR CODE\n",
    "\n",
    "    # ABOVE GOES YOUR CODE\n",
    "    return {\"find_duplicates_unique_numpy\": find_duplicates_unique_numpy}\n",
    "\n",
    "numpy_120()"
   ]
  },
  {
   "cell_type": "code",
   "execution_count": 335,
   "metadata": {},
   "outputs": [
    {
     "name": "stdout",
     "output_type": "stream",
     "text": [
      "✅ Great job! Exercise completed successfully.\n"
     ]
    }
   ],
   "source": [
    "def scale_match_numpy(arr_a, arr_b):\n",
    "    arr_a = np.max(arr_a) * arr_a\n",
    "    arr_b = np.max(arr_b) * arr_b\n",
    "\n",
    "    return arr_a == arr_b\n",
    "\n",
    "\n",
    "# Write a function `scale_match_numpy` that takes two NumPy arrays `arr_a` and `arr_b`, scales each by their respective maximum with NumPy, and returns `True` if they are identical, otherwise `False`.\n",
    "@check_numpy_121\n",
    "def numpy_121():\n",
    "    # This line is mandatory and should not be removed.\n",
    "    ex_stat_init = True\n",
    "\n",
    "    # BELOW GOES YOUR CODE\n",
    "\n",
    "    # ABOVE GOES YOUR CODE\n",
    "    return {\"scale_match_numpy\": scale_match_numpy}\n",
    "\n",
    "numpy_121()"
   ]
  },
  {
   "cell_type": "code",
   "execution_count": 336,
   "metadata": {},
   "outputs": [
    {
     "name": "stdout",
     "output_type": "stream",
     "text": [
      "✅ Great job! Exercise completed successfully.\n"
     ]
    }
   ],
   "source": [
    "def calculate_ratios_sort_numpy(numers, denoms):\n",
    "    ratios = numers / denoms\n",
    "    sorted_ratios = np.sort(ratios)\n",
    "\n",
    "# Create a function `calculate_ratios_sort_numpy` that takes two NumPy arrays `numers` and `denoms`. Calculate ratios using NumPy, sort them, and return a new array of sorted ratios.\n",
    "@check_numpy_122\n",
    "def numpy_122():\n",
    "    # This line is mandatory and should not be removed.\n",
    "    ex_stat_init = True\n",
    "\n",
    "    # BELOW GOES YOUR CODE\n",
    "\n",
    "    # ABOVE GOES YOUR CODE\n",
    "    return {\"calculate_ratios_sort_numpy\": calculate_ratios_sort_numpy}\n",
    "\n",
    "numpy_122()"
   ]
  },
  {
   "cell_type": "code",
   "execution_count": 337,
   "metadata": {},
   "outputs": [
    {
     "name": "stdout",
     "output_type": "stream",
     "text": [
      "✅ Great job! Exercise completed successfully.\n"
     ]
    }
   ],
   "source": [
    "def decode_filter_numpy(codes):\n",
    "    #codes = np.char.decode()  ????? nu am inteles pentru ce\n",
    "    alpha_codes = np.char.isalpha(codes)\n",
    "    return alpha_codes\n",
    "\n",
    "# Develop a function `decode_filter_numpy` that processes a NumPy array `codes`, decodes using NumPy string operations, filters messages containing digits, and returns the cleaned array.\n",
    "@check_numpy_123\n",
    "def numpy_123():\n",
    "    # This line is mandatory and should not be removed.\n",
    "    ex_stat_init = True\n",
    "\n",
    "    # BELOW GOES YOUR CODE\n",
    "\n",
    "    # ABOVE GOES YOUR CODE\n",
    "    return {\"decode_filter_numpy\": decode_filter_numpy}\n",
    "\n",
    "numpy_123()"
   ]
  },
  {
   "cell_type": "code",
   "execution_count": 338,
   "metadata": {},
   "outputs": [
    {
     "name": "stdout",
     "output_type": "stream",
     "text": [
      "✅ Great job! Exercise completed successfully.\n"
     ]
    }
   ],
   "source": [
    "def sync_sum_json_numpy(data1, data2):\n",
    "    common_items = np.array([])\n",
    "    \n",
    "    for key in data1:\n",
    "        if key in data2:\n",
    "            common_items = np.append(common_items, data1[key])\n",
    "    return {\"sum\": np.sum(common_items)}\n",
    "\n",
    "# Implement a function `sync_sum_json_numpy` that takes two JSON-like dictionaries `data1` and `data2`, synchronizes with NumPy by common keys, sums values, and returns the resulting dictionary.\n",
    "@check_numpy_124\n",
    "def numpy_124():\n",
    "    # This line is mandatory and should not be removed.\n",
    "    ex_stat_init = True\n",
    "\n",
    "    # BELOW GOES YOUR CODE\n",
    "\n",
    "    # ABOVE GOES YOUR CODE\n",
    "    return {\"sync_sum_json_numpy\": sync_sum_json_numpy}\n",
    "\n",
    "numpy_124()"
   ]
  },
  {
   "cell_type": "code",
   "execution_count": 339,
   "metadata": {},
   "outputs": [
    {
     "name": "stdout",
     "output_type": "stream",
     "text": [
      "✅ Great job! Exercise completed successfully.\n"
     ]
    }
   ],
   "source": [
    "def tokenize_compare_numpy(para1, para2):\n",
    "    diferent_tokens = np.setdiff1d(para1, para2)\n",
    "    unique_elements = np.unique(diferent_tokens)\n",
    "    return unique_elements\n",
    "\n",
    "# Write a function `tokenize_compare_numpy` that takes two NumPy string arrays `para1` and `para2`, tokenizes using NumPy, calculates the set difference with NumPy, and returns a list of unique words in one array.\n",
    "@check_numpy_125\n",
    "def numpy_125():\n",
    "    # This line is mandatory and should not be removed.\n",
    "    ex_stat_init = True\n",
    "\n",
    "    # BELOW GOES YOUR CODE\n",
    "\n",
    "    # ABOVE GOES YOUR CODE\n",
    "    return {\"tokenize_compare_numpy\": tokenize_compare_numpy}\n",
    "\n",
    "numpy_125()"
   ]
  }
 ],
 "metadata": {
  "kernelspec": {
   "display_name": "Python 3",
   "language": "python",
   "name": "python3"
  },
  "language_info": {
   "codemirror_mode": {
    "name": "ipython",
    "version": 3
   },
   "file_extension": ".py",
   "mimetype": "text/x-python",
   "name": "python",
   "nbconvert_exporter": "python",
   "pygments_lexer": "ipython3",
   "version": "3.11.9"
  }
 },
 "nbformat": 4,
 "nbformat_minor": 2
}
