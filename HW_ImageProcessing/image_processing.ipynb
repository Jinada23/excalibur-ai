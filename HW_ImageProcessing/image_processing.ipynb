{
 "cells": [
  {
   "cell_type": "code",
   "execution_count": 119,
   "metadata": {},
   "outputs": [],
   "source": [
    "import cv2\n",
    "import numpy as np"
   ]
  },
  {
   "cell_type": "code",
   "execution_count": 120,
   "metadata": {},
   "outputs": [
    {
     "name": "stdout",
     "output_type": "stream",
     "text": [
      "(622, 350, 3)\n"
     ]
    }
   ],
   "source": [
    "image = cv2.imread(\"./mario.jpg\", cv2.IMREAD_COLOR)\n",
    "print(image.shape)"
   ]
  },
  {
   "cell_type": "code",
   "execution_count": 121,
   "metadata": {},
   "outputs": [
    {
     "name": "stdout",
     "output_type": "stream",
     "text": [
      "(6, 6, 3)\n"
     ]
    }
   ],
   "source": [
    "main_arr = np.array([\n",
    "    [[1, 1, 1], [0, 0, 0], [1, 1, 1], [1, 1, 1], [0, 0, 0], [1, 1, 1]],\n",
    "    [[1, 1, 1], [0, 0, 0], [1, 1, 1], [1, 1, 1], [0, 0, 0], [1, 1, 1]],\n",
    "    [[1, 1, 1], [0, 0, 0], [1, 1, 1], [1, 1, 1], [0, 0, 0], [1, 1, 1]],\n",
    "    [[1, 1, 1], [0, 0, 0], [1, 1, 1], [1, 1, 1], [0, 0, 0], [1, 1, 1]],\n",
    "    [[1, 1, 1], [0, 0, 0], [1, 1, 1], [1, 1, 1], [0, 0, 0], [1, 1, 1]],\n",
    "    [[1, 1, 1], [0, 0, 0], [1, 1, 1], [1, 1, 1], [0, 0, 0], [1, 1, 1]]\n",
    "])\n",
    "\n",
    "filter_arr = np.array([\n",
    "    [1/9, 1/9, 1/9],\n",
    "    [1/9, 1/9, 1/9],\n",
    "    [1/9, 1/9, 1/9],\n",
    "])\n",
    "\n",
    "print(main_arr.shape)\n"
   ]
  },
  {
   "cell_type": "code",
   "execution_count": 134,
   "metadata": {},
   "outputs": [],
   "source": [
    "def compute_filter(main_arr, filter_arr):\n",
    "    \n",
    "    main_row, main_col, main_rgb = main_arr.shape\n",
    "    filter_row, filter_col = filter_arr.shape\n",
    "\n",
    "    row_out = main_row - filter_row + 1\n",
    "    col_out = main_col - filter_col + 1\n",
    "    result = np.zeros((row_out, col_out, main_rgb))\n",
    "\n",
    "    for i in range(row_out):\n",
    "        for j in range(col_out):\n",
    "            multiplication_result = main_arr[i:i+filter_col, j:j+filter_row] * 1/9\n",
    "            sum_result = np.sum(multiplication_result, axis=(0, 1))\n",
    "            result[i, j] = sum_result\n",
    "    return result.reshape(row_out, col_out, main_rgb)\n"
   ]
  },
  {
   "cell_type": "code",
   "execution_count": 135,
   "metadata": {},
   "outputs": [],
   "source": [
    "filtered_image = compute_filter(image, filter_arr)\n",
    "normalized_image = cv2.normalize(filtered_image, None, 0, 255, cv2.NORM_MINMAX)\n",
    "display_image = normalized_image.astype(np.uint8)\n",
    "cv2.imshow('Filtered Image', display_image)\n",
    "\n",
    "# Wait for a key press and close the image window\n",
    "cv2.waitKey(0)\n",
    "cv2.destroyAllWindows()"
   ]
  }
 ],
 "metadata": {
  "kernelspec": {
   "display_name": "Python 3",
   "language": "python",
   "name": "python3"
  },
  "language_info": {
   "codemirror_mode": {
    "name": "ipython",
    "version": 3
   },
   "file_extension": ".py",
   "mimetype": "text/x-python",
   "name": "python",
   "nbconvert_exporter": "python",
   "pygments_lexer": "ipython3",
   "version": "3.11.9"
  }
 },
 "nbformat": 4,
 "nbformat_minor": 2
}
